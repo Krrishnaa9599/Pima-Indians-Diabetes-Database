{
 "cells": [
  {
   "cell_type": "code",
   "execution_count": 1,
   "metadata": {
    "execution": {
     "iopub.execute_input": "2020-12-07T14:18:06.867338Z",
     "iopub.status.busy": "2020-12-07T14:18:06.866535Z",
     "iopub.status.idle": "2020-12-07T14:18:09.772337Z",
     "shell.execute_reply": "2020-12-07T14:18:09.771710Z"
    },
    "papermill": {
     "duration": 2.973396,
     "end_time": "2020-12-07T14:18:09.772448",
     "exception": false,
     "start_time": "2020-12-07T14:18:06.799052",
     "status": "completed"
    },
    "tags": []
   },
   "outputs": [
    {
     "data": {
      "text/html": [
       "<style type='text/css'>\n",
       ".datatable table.frame { margin-bottom: 0; }\n",
       ".datatable table.frame thead { border-bottom: none; }\n",
       ".datatable table.frame tr.coltypes td {  color: #FFFFFF;  line-height: 6px;  padding: 0 0.5em;}\n",
       ".datatable .bool    { background: #DDDD99; }\n",
       ".datatable .object  { background: #565656; }\n",
       ".datatable .int     { background: #5D9E5D; }\n",
       ".datatable .float   { background: #4040CC; }\n",
       ".datatable .str     { background: #CC4040; }\n",
       ".datatable .row_index {  background: var(--jp-border-color3);  border-right: 1px solid var(--jp-border-color0);  color: var(--jp-ui-font-color3);  font-size: 9px;}\n",
       ".datatable .frame tr.coltypes .row_index {  background: var(--jp-border-color0);}\n",
       ".datatable th:nth-child(2) { padding-left: 12px; }\n",
       ".datatable .hellipsis {  color: var(--jp-cell-editor-border-color);}\n",
       ".datatable .vellipsis {  background: var(--jp-layout-color0);  color: var(--jp-cell-editor-border-color);}\n",
       ".datatable .na {  color: var(--jp-cell-editor-border-color);  font-size: 80%;}\n",
       ".datatable .footer { font-size: 9px; }\n",
       ".datatable .frame_dimensions {  background: var(--jp-border-color3);  border-top: 1px solid var(--jp-border-color0);  color: var(--jp-ui-font-color3);  display: inline-block;  opacity: 0.6;  padding: 1px 10px 1px 5px;}\n",
       ".datatable .frame thead tr.colnames {  background-image: url('data:image/png;base64,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');  background-repeat: repeat-x;  background-size: 14px;  height: 28px;}\n",
       "</style>\n"
      ],
      "text/plain": [
       "<IPython.core.display.HTML object>"
      ]
     },
     "metadata": {},
     "output_type": "display_data"
    }
   ],
   "source": [
    "import numpy as np\n",
    "import seaborn as sns\n",
    "import pandas as pd\n",
    "import matplotlib.pyplot as plt\n",
    "import plotly.express as px\n",
    "import xgboost\n",
    "import cv2\n",
    "import imblearn"
   ]
  },
  {
   "cell_type": "code",
   "execution_count": 2,
   "metadata": {
    "execution": {
     "iopub.execute_input": "2020-12-07T14:18:09.860408Z",
     "iopub.status.busy": "2020-12-07T14:18:09.859708Z",
     "iopub.status.idle": "2020-12-07T14:18:09.863669Z",
     "shell.execute_reply": "2020-12-07T14:18:09.863031Z"
    },
    "papermill": {
     "duration": 0.049272,
     "end_time": "2020-12-07T14:18:09.863779",
     "exception": false,
     "start_time": "2020-12-07T14:18:09.814507",
     "status": "completed"
    },
    "tags": []
   },
   "outputs": [],
   "source": [
    "import warnings\n",
    "warnings.filterwarnings('ignore')"
   ]
  },
  {
   "cell_type": "code",
   "execution_count": 3,
   "metadata": {
    "execution": {
     "iopub.execute_input": "2020-12-07T14:18:09.957197Z",
     "iopub.status.busy": "2020-12-07T14:18:09.956369Z",
     "iopub.status.idle": "2020-12-07T14:18:09.970110Z",
     "shell.execute_reply": "2020-12-07T14:18:09.969532Z"
    },
    "papermill": {
     "duration": 0.065363,
     "end_time": "2020-12-07T14:18:09.970222",
     "exception": false,
     "start_time": "2020-12-07T14:18:09.904859",
     "status": "completed"
    },
    "tags": []
   },
   "outputs": [],
   "source": [
    "df=pd.read_csv('../input/pima-indians-diabetes-database/diabetes.csv')"
   ]
  },
  {
   "cell_type": "code",
   "execution_count": 4,
   "metadata": {
    "execution": {
     "iopub.execute_input": "2020-12-07T14:18:10.073909Z",
     "iopub.status.busy": "2020-12-07T14:18:10.063113Z",
     "iopub.status.idle": "2020-12-07T14:18:10.093478Z",
     "shell.execute_reply": "2020-12-07T14:18:10.094267Z"
    },
    "papermill": {
     "duration": 0.083377,
     "end_time": "2020-12-07T14:18:10.094423",
     "exception": false,
     "start_time": "2020-12-07T14:18:10.011046",
     "status": "completed"
    },
    "tags": []
   },
   "outputs": [
    {
     "data": {
      "text/html": [
       "<div>\n",
       "<style scoped>\n",
       "    .dataframe tbody tr th:only-of-type {\n",
       "        vertical-align: middle;\n",
       "    }\n",
       "\n",
       "    .dataframe tbody tr th {\n",
       "        vertical-align: top;\n",
       "    }\n",
       "\n",
       "    .dataframe thead th {\n",
       "        text-align: right;\n",
       "    }\n",
       "</style>\n",
       "<table border=\"1\" class=\"dataframe\">\n",
       "  <thead>\n",
       "    <tr style=\"text-align: right;\">\n",
       "      <th></th>\n",
       "      <th>Pregnancies</th>\n",
       "      <th>Glucose</th>\n",
       "      <th>BloodPressure</th>\n",
       "      <th>SkinThickness</th>\n",
       "      <th>Insulin</th>\n",
       "      <th>BMI</th>\n",
       "      <th>DiabetesPedigreeFunction</th>\n",
       "      <th>Age</th>\n",
       "      <th>Outcome</th>\n",
       "    </tr>\n",
       "  </thead>\n",
       "  <tbody>\n",
       "    <tr>\n",
       "      <th>0</th>\n",
       "      <td>6</td>\n",
       "      <td>148</td>\n",
       "      <td>72</td>\n",
       "      <td>35</td>\n",
       "      <td>0</td>\n",
       "      <td>33.6</td>\n",
       "      <td>0.627</td>\n",
       "      <td>50</td>\n",
       "      <td>1</td>\n",
       "    </tr>\n",
       "    <tr>\n",
       "      <th>1</th>\n",
       "      <td>1</td>\n",
       "      <td>85</td>\n",
       "      <td>66</td>\n",
       "      <td>29</td>\n",
       "      <td>0</td>\n",
       "      <td>26.6</td>\n",
       "      <td>0.351</td>\n",
       "      <td>31</td>\n",
       "      <td>0</td>\n",
       "    </tr>\n",
       "    <tr>\n",
       "      <th>2</th>\n",
       "      <td>8</td>\n",
       "      <td>183</td>\n",
       "      <td>64</td>\n",
       "      <td>0</td>\n",
       "      <td>0</td>\n",
       "      <td>23.3</td>\n",
       "      <td>0.672</td>\n",
       "      <td>32</td>\n",
       "      <td>1</td>\n",
       "    </tr>\n",
       "    <tr>\n",
       "      <th>3</th>\n",
       "      <td>1</td>\n",
       "      <td>89</td>\n",
       "      <td>66</td>\n",
       "      <td>23</td>\n",
       "      <td>94</td>\n",
       "      <td>28.1</td>\n",
       "      <td>0.167</td>\n",
       "      <td>21</td>\n",
       "      <td>0</td>\n",
       "    </tr>\n",
       "    <tr>\n",
       "      <th>4</th>\n",
       "      <td>0</td>\n",
       "      <td>137</td>\n",
       "      <td>40</td>\n",
       "      <td>35</td>\n",
       "      <td>168</td>\n",
       "      <td>43.1</td>\n",
       "      <td>2.288</td>\n",
       "      <td>33</td>\n",
       "      <td>1</td>\n",
       "    </tr>\n",
       "    <tr>\n",
       "      <th>...</th>\n",
       "      <td>...</td>\n",
       "      <td>...</td>\n",
       "      <td>...</td>\n",
       "      <td>...</td>\n",
       "      <td>...</td>\n",
       "      <td>...</td>\n",
       "      <td>...</td>\n",
       "      <td>...</td>\n",
       "      <td>...</td>\n",
       "    </tr>\n",
       "    <tr>\n",
       "      <th>763</th>\n",
       "      <td>10</td>\n",
       "      <td>101</td>\n",
       "      <td>76</td>\n",
       "      <td>48</td>\n",
       "      <td>180</td>\n",
       "      <td>32.9</td>\n",
       "      <td>0.171</td>\n",
       "      <td>63</td>\n",
       "      <td>0</td>\n",
       "    </tr>\n",
       "    <tr>\n",
       "      <th>764</th>\n",
       "      <td>2</td>\n",
       "      <td>122</td>\n",
       "      <td>70</td>\n",
       "      <td>27</td>\n",
       "      <td>0</td>\n",
       "      <td>36.8</td>\n",
       "      <td>0.340</td>\n",
       "      <td>27</td>\n",
       "      <td>0</td>\n",
       "    </tr>\n",
       "    <tr>\n",
       "      <th>765</th>\n",
       "      <td>5</td>\n",
       "      <td>121</td>\n",
       "      <td>72</td>\n",
       "      <td>23</td>\n",
       "      <td>112</td>\n",
       "      <td>26.2</td>\n",
       "      <td>0.245</td>\n",
       "      <td>30</td>\n",
       "      <td>0</td>\n",
       "    </tr>\n",
       "    <tr>\n",
       "      <th>766</th>\n",
       "      <td>1</td>\n",
       "      <td>126</td>\n",
       "      <td>60</td>\n",
       "      <td>0</td>\n",
       "      <td>0</td>\n",
       "      <td>30.1</td>\n",
       "      <td>0.349</td>\n",
       "      <td>47</td>\n",
       "      <td>1</td>\n",
       "    </tr>\n",
       "    <tr>\n",
       "      <th>767</th>\n",
       "      <td>1</td>\n",
       "      <td>93</td>\n",
       "      <td>70</td>\n",
       "      <td>31</td>\n",
       "      <td>0</td>\n",
       "      <td>30.4</td>\n",
       "      <td>0.315</td>\n",
       "      <td>23</td>\n",
       "      <td>0</td>\n",
       "    </tr>\n",
       "  </tbody>\n",
       "</table>\n",
       "<p>768 rows × 9 columns</p>\n",
       "</div>"
      ],
      "text/plain": [
       "     Pregnancies  Glucose  BloodPressure  SkinThickness  Insulin   BMI  \\\n",
       "0              6      148             72             35        0  33.6   \n",
       "1              1       85             66             29        0  26.6   \n",
       "2              8      183             64              0        0  23.3   \n",
       "3              1       89             66             23       94  28.1   \n",
       "4              0      137             40             35      168  43.1   \n",
       "..           ...      ...            ...            ...      ...   ...   \n",
       "763           10      101             76             48      180  32.9   \n",
       "764            2      122             70             27        0  36.8   \n",
       "765            5      121             72             23      112  26.2   \n",
       "766            1      126             60              0        0  30.1   \n",
       "767            1       93             70             31        0  30.4   \n",
       "\n",
       "     DiabetesPedigreeFunction  Age  Outcome  \n",
       "0                       0.627   50        1  \n",
       "1                       0.351   31        0  \n",
       "2                       0.672   32        1  \n",
       "3                       0.167   21        0  \n",
       "4                       2.288   33        1  \n",
       "..                        ...  ...      ...  \n",
       "763                     0.171   63        0  \n",
       "764                     0.340   27        0  \n",
       "765                     0.245   30        0  \n",
       "766                     0.349   47        1  \n",
       "767                     0.315   23        0  \n",
       "\n",
       "[768 rows x 9 columns]"
      ]
     },
     "execution_count": 4,
     "metadata": {},
     "output_type": "execute_result"
    }
   ],
   "source": [
    "df"
   ]
  },
  {
   "cell_type": "code",
   "execution_count": 5,
   "metadata": {
    "execution": {
     "iopub.execute_input": "2020-12-07T14:18:10.229750Z",
     "iopub.status.busy": "2020-12-07T14:18:10.228705Z",
     "iopub.status.idle": "2020-12-07T14:18:10.263278Z",
     "shell.execute_reply": "2020-12-07T14:18:10.262601Z"
    },
    "papermill": {
     "duration": 0.107405,
     "end_time": "2020-12-07T14:18:10.263402",
     "exception": false,
     "start_time": "2020-12-07T14:18:10.155997",
     "status": "completed"
    },
    "tags": []
   },
   "outputs": [
    {
     "data": {
      "text/html": [
       "<div>\n",
       "<style scoped>\n",
       "    .dataframe tbody tr th:only-of-type {\n",
       "        vertical-align: middle;\n",
       "    }\n",
       "\n",
       "    .dataframe tbody tr th {\n",
       "        vertical-align: top;\n",
       "    }\n",
       "\n",
       "    .dataframe thead th {\n",
       "        text-align: right;\n",
       "    }\n",
       "</style>\n",
       "<table border=\"1\" class=\"dataframe\">\n",
       "  <thead>\n",
       "    <tr style=\"text-align: right;\">\n",
       "      <th></th>\n",
       "      <th>Pregnancies</th>\n",
       "      <th>Glucose</th>\n",
       "      <th>BloodPressure</th>\n",
       "      <th>SkinThickness</th>\n",
       "      <th>Insulin</th>\n",
       "      <th>BMI</th>\n",
       "      <th>DiabetesPedigreeFunction</th>\n",
       "      <th>Age</th>\n",
       "      <th>Outcome</th>\n",
       "    </tr>\n",
       "  </thead>\n",
       "  <tbody>\n",
       "    <tr>\n",
       "      <th>count</th>\n",
       "      <td>768.000000</td>\n",
       "      <td>768.000000</td>\n",
       "      <td>768.000000</td>\n",
       "      <td>768.000000</td>\n",
       "      <td>768.000000</td>\n",
       "      <td>768.000000</td>\n",
       "      <td>768.000000</td>\n",
       "      <td>768.000000</td>\n",
       "      <td>768.000000</td>\n",
       "    </tr>\n",
       "    <tr>\n",
       "      <th>mean</th>\n",
       "      <td>3.845052</td>\n",
       "      <td>120.894531</td>\n",
       "      <td>69.105469</td>\n",
       "      <td>20.536458</td>\n",
       "      <td>79.799479</td>\n",
       "      <td>31.992578</td>\n",
       "      <td>0.471876</td>\n",
       "      <td>33.240885</td>\n",
       "      <td>0.348958</td>\n",
       "    </tr>\n",
       "    <tr>\n",
       "      <th>std</th>\n",
       "      <td>3.369578</td>\n",
       "      <td>31.972618</td>\n",
       "      <td>19.355807</td>\n",
       "      <td>15.952218</td>\n",
       "      <td>115.244002</td>\n",
       "      <td>7.884160</td>\n",
       "      <td>0.331329</td>\n",
       "      <td>11.760232</td>\n",
       "      <td>0.476951</td>\n",
       "    </tr>\n",
       "    <tr>\n",
       "      <th>min</th>\n",
       "      <td>0.000000</td>\n",
       "      <td>0.000000</td>\n",
       "      <td>0.000000</td>\n",
       "      <td>0.000000</td>\n",
       "      <td>0.000000</td>\n",
       "      <td>0.000000</td>\n",
       "      <td>0.078000</td>\n",
       "      <td>21.000000</td>\n",
       "      <td>0.000000</td>\n",
       "    </tr>\n",
       "    <tr>\n",
       "      <th>25%</th>\n",
       "      <td>1.000000</td>\n",
       "      <td>99.000000</td>\n",
       "      <td>62.000000</td>\n",
       "      <td>0.000000</td>\n",
       "      <td>0.000000</td>\n",
       "      <td>27.300000</td>\n",
       "      <td>0.243750</td>\n",
       "      <td>24.000000</td>\n",
       "      <td>0.000000</td>\n",
       "    </tr>\n",
       "    <tr>\n",
       "      <th>50%</th>\n",
       "      <td>3.000000</td>\n",
       "      <td>117.000000</td>\n",
       "      <td>72.000000</td>\n",
       "      <td>23.000000</td>\n",
       "      <td>30.500000</td>\n",
       "      <td>32.000000</td>\n",
       "      <td>0.372500</td>\n",
       "      <td>29.000000</td>\n",
       "      <td>0.000000</td>\n",
       "    </tr>\n",
       "    <tr>\n",
       "      <th>75%</th>\n",
       "      <td>6.000000</td>\n",
       "      <td>140.250000</td>\n",
       "      <td>80.000000</td>\n",
       "      <td>32.000000</td>\n",
       "      <td>127.250000</td>\n",
       "      <td>36.600000</td>\n",
       "      <td>0.626250</td>\n",
       "      <td>41.000000</td>\n",
       "      <td>1.000000</td>\n",
       "    </tr>\n",
       "    <tr>\n",
       "      <th>max</th>\n",
       "      <td>17.000000</td>\n",
       "      <td>199.000000</td>\n",
       "      <td>122.000000</td>\n",
       "      <td>99.000000</td>\n",
       "      <td>846.000000</td>\n",
       "      <td>67.100000</td>\n",
       "      <td>2.420000</td>\n",
       "      <td>81.000000</td>\n",
       "      <td>1.000000</td>\n",
       "    </tr>\n",
       "  </tbody>\n",
       "</table>\n",
       "</div>"
      ],
      "text/plain": [
       "       Pregnancies     Glucose  BloodPressure  SkinThickness     Insulin  \\\n",
       "count   768.000000  768.000000     768.000000     768.000000  768.000000   \n",
       "mean      3.845052  120.894531      69.105469      20.536458   79.799479   \n",
       "std       3.369578   31.972618      19.355807      15.952218  115.244002   \n",
       "min       0.000000    0.000000       0.000000       0.000000    0.000000   \n",
       "25%       1.000000   99.000000      62.000000       0.000000    0.000000   \n",
       "50%       3.000000  117.000000      72.000000      23.000000   30.500000   \n",
       "75%       6.000000  140.250000      80.000000      32.000000  127.250000   \n",
       "max      17.000000  199.000000     122.000000      99.000000  846.000000   \n",
       "\n",
       "              BMI  DiabetesPedigreeFunction         Age     Outcome  \n",
       "count  768.000000                768.000000  768.000000  768.000000  \n",
       "mean    31.992578                  0.471876   33.240885    0.348958  \n",
       "std      7.884160                  0.331329   11.760232    0.476951  \n",
       "min      0.000000                  0.078000   21.000000    0.000000  \n",
       "25%     27.300000                  0.243750   24.000000    0.000000  \n",
       "50%     32.000000                  0.372500   29.000000    0.000000  \n",
       "75%     36.600000                  0.626250   41.000000    1.000000  \n",
       "max     67.100000                  2.420000   81.000000    1.000000  "
      ]
     },
     "execution_count": 5,
     "metadata": {},
     "output_type": "execute_result"
    }
   ],
   "source": [
    "df.describe()"
   ]
  },
  {
   "cell_type": "code",
   "execution_count": 6,
   "metadata": {
    "execution": {
     "iopub.execute_input": "2020-12-07T14:18:10.399143Z",
     "iopub.status.busy": "2020-12-07T14:18:10.398197Z",
     "iopub.status.idle": "2020-12-07T14:18:10.401850Z",
     "shell.execute_reply": "2020-12-07T14:18:10.402529Z"
    },
    "papermill": {
     "duration": 0.074898,
     "end_time": "2020-12-07T14:18:10.402682",
     "exception": false,
     "start_time": "2020-12-07T14:18:10.327784",
     "status": "completed"
    },
    "tags": []
   },
   "outputs": [
    {
     "data": {
      "text/plain": [
       "Pregnancies                 0\n",
       "Glucose                     0\n",
       "BloodPressure               0\n",
       "SkinThickness               0\n",
       "Insulin                     0\n",
       "BMI                         0\n",
       "DiabetesPedigreeFunction    0\n",
       "Age                         0\n",
       "Outcome                     0\n",
       "dtype: int64"
      ]
     },
     "execution_count": 6,
     "metadata": {},
     "output_type": "execute_result"
    }
   ],
   "source": [
    "np.sum(df.isnull())"
   ]
  },
  {
   "cell_type": "code",
   "execution_count": 7,
   "metadata": {
    "execution": {
     "iopub.execute_input": "2020-12-07T14:18:10.533209Z",
     "iopub.status.busy": "2020-12-07T14:18:10.532391Z",
     "iopub.status.idle": "2020-12-07T14:18:10.537819Z",
     "shell.execute_reply": "2020-12-07T14:18:10.538503Z"
    },
    "papermill": {
     "duration": 0.072526,
     "end_time": "2020-12-07T14:18:10.538636",
     "exception": false,
     "start_time": "2020-12-07T14:18:10.466110",
     "status": "completed"
    },
    "tags": []
   },
   "outputs": [],
   "source": [
    "X=df.drop('Outcome', axis=1)"
   ]
  },
  {
   "cell_type": "code",
   "execution_count": 8,
   "metadata": {
    "execution": {
     "iopub.execute_input": "2020-12-07T14:18:10.673281Z",
     "iopub.status.busy": "2020-12-07T14:18:10.672526Z",
     "iopub.status.idle": "2020-12-07T14:18:10.676704Z",
     "shell.execute_reply": "2020-12-07T14:18:10.676074Z"
    },
    "papermill": {
     "duration": 0.073193,
     "end_time": "2020-12-07T14:18:10.676810",
     "exception": false,
     "start_time": "2020-12-07T14:18:10.603617",
     "status": "completed"
    },
    "tags": []
   },
   "outputs": [],
   "source": [
    "Y=df['Outcome']"
   ]
  },
  {
   "cell_type": "code",
   "execution_count": 9,
   "metadata": {
    "execution": {
     "iopub.execute_input": "2020-12-07T14:18:10.780390Z",
     "iopub.status.busy": "2020-12-07T14:18:10.779398Z",
     "iopub.status.idle": "2020-12-07T14:18:10.785260Z",
     "shell.execute_reply": "2020-12-07T14:18:10.784448Z"
    },
    "papermill": {
     "duration": 0.065757,
     "end_time": "2020-12-07T14:18:10.785381",
     "exception": false,
     "start_time": "2020-12-07T14:18:10.719624",
     "status": "completed"
    },
    "tags": []
   },
   "outputs": [
    {
     "data": {
      "text/html": [
       "<div>\n",
       "<style scoped>\n",
       "    .dataframe tbody tr th:only-of-type {\n",
       "        vertical-align: middle;\n",
       "    }\n",
       "\n",
       "    .dataframe tbody tr th {\n",
       "        vertical-align: top;\n",
       "    }\n",
       "\n",
       "    .dataframe thead th {\n",
       "        text-align: right;\n",
       "    }\n",
       "</style>\n",
       "<table border=\"1\" class=\"dataframe\">\n",
       "  <thead>\n",
       "    <tr style=\"text-align: right;\">\n",
       "      <th></th>\n",
       "      <th>Pregnancies</th>\n",
       "      <th>Glucose</th>\n",
       "      <th>BloodPressure</th>\n",
       "      <th>SkinThickness</th>\n",
       "      <th>Insulin</th>\n",
       "      <th>BMI</th>\n",
       "      <th>DiabetesPedigreeFunction</th>\n",
       "      <th>Age</th>\n",
       "    </tr>\n",
       "  </thead>\n",
       "  <tbody>\n",
       "    <tr>\n",
       "      <th>0</th>\n",
       "      <td>6</td>\n",
       "      <td>148</td>\n",
       "      <td>72</td>\n",
       "      <td>35</td>\n",
       "      <td>0</td>\n",
       "      <td>33.6</td>\n",
       "      <td>0.627</td>\n",
       "      <td>50</td>\n",
       "    </tr>\n",
       "    <tr>\n",
       "      <th>1</th>\n",
       "      <td>1</td>\n",
       "      <td>85</td>\n",
       "      <td>66</td>\n",
       "      <td>29</td>\n",
       "      <td>0</td>\n",
       "      <td>26.6</td>\n",
       "      <td>0.351</td>\n",
       "      <td>31</td>\n",
       "    </tr>\n",
       "    <tr>\n",
       "      <th>2</th>\n",
       "      <td>8</td>\n",
       "      <td>183</td>\n",
       "      <td>64</td>\n",
       "      <td>0</td>\n",
       "      <td>0</td>\n",
       "      <td>23.3</td>\n",
       "      <td>0.672</td>\n",
       "      <td>32</td>\n",
       "    </tr>\n",
       "    <tr>\n",
       "      <th>3</th>\n",
       "      <td>1</td>\n",
       "      <td>89</td>\n",
       "      <td>66</td>\n",
       "      <td>23</td>\n",
       "      <td>94</td>\n",
       "      <td>28.1</td>\n",
       "      <td>0.167</td>\n",
       "      <td>21</td>\n",
       "    </tr>\n",
       "    <tr>\n",
       "      <th>4</th>\n",
       "      <td>0</td>\n",
       "      <td>137</td>\n",
       "      <td>40</td>\n",
       "      <td>35</td>\n",
       "      <td>168</td>\n",
       "      <td>43.1</td>\n",
       "      <td>2.288</td>\n",
       "      <td>33</td>\n",
       "    </tr>\n",
       "    <tr>\n",
       "      <th>...</th>\n",
       "      <td>...</td>\n",
       "      <td>...</td>\n",
       "      <td>...</td>\n",
       "      <td>...</td>\n",
       "      <td>...</td>\n",
       "      <td>...</td>\n",
       "      <td>...</td>\n",
       "      <td>...</td>\n",
       "    </tr>\n",
       "    <tr>\n",
       "      <th>763</th>\n",
       "      <td>10</td>\n",
       "      <td>101</td>\n",
       "      <td>76</td>\n",
       "      <td>48</td>\n",
       "      <td>180</td>\n",
       "      <td>32.9</td>\n",
       "      <td>0.171</td>\n",
       "      <td>63</td>\n",
       "    </tr>\n",
       "    <tr>\n",
       "      <th>764</th>\n",
       "      <td>2</td>\n",
       "      <td>122</td>\n",
       "      <td>70</td>\n",
       "      <td>27</td>\n",
       "      <td>0</td>\n",
       "      <td>36.8</td>\n",
       "      <td>0.340</td>\n",
       "      <td>27</td>\n",
       "    </tr>\n",
       "    <tr>\n",
       "      <th>765</th>\n",
       "      <td>5</td>\n",
       "      <td>121</td>\n",
       "      <td>72</td>\n",
       "      <td>23</td>\n",
       "      <td>112</td>\n",
       "      <td>26.2</td>\n",
       "      <td>0.245</td>\n",
       "      <td>30</td>\n",
       "    </tr>\n",
       "    <tr>\n",
       "      <th>766</th>\n",
       "      <td>1</td>\n",
       "      <td>126</td>\n",
       "      <td>60</td>\n",
       "      <td>0</td>\n",
       "      <td>0</td>\n",
       "      <td>30.1</td>\n",
       "      <td>0.349</td>\n",
       "      <td>47</td>\n",
       "    </tr>\n",
       "    <tr>\n",
       "      <th>767</th>\n",
       "      <td>1</td>\n",
       "      <td>93</td>\n",
       "      <td>70</td>\n",
       "      <td>31</td>\n",
       "      <td>0</td>\n",
       "      <td>30.4</td>\n",
       "      <td>0.315</td>\n",
       "      <td>23</td>\n",
       "    </tr>\n",
       "  </tbody>\n",
       "</table>\n",
       "<p>768 rows × 8 columns</p>\n",
       "</div>"
      ],
      "text/plain": [
       "     Pregnancies  Glucose  BloodPressure  SkinThickness  Insulin   BMI  \\\n",
       "0              6      148             72             35        0  33.6   \n",
       "1              1       85             66             29        0  26.6   \n",
       "2              8      183             64              0        0  23.3   \n",
       "3              1       89             66             23       94  28.1   \n",
       "4              0      137             40             35      168  43.1   \n",
       "..           ...      ...            ...            ...      ...   ...   \n",
       "763           10      101             76             48      180  32.9   \n",
       "764            2      122             70             27        0  36.8   \n",
       "765            5      121             72             23      112  26.2   \n",
       "766            1      126             60              0        0  30.1   \n",
       "767            1       93             70             31        0  30.4   \n",
       "\n",
       "     DiabetesPedigreeFunction  Age  \n",
       "0                       0.627   50  \n",
       "1                       0.351   31  \n",
       "2                       0.672   32  \n",
       "3                       0.167   21  \n",
       "4                       2.288   33  \n",
       "..                        ...  ...  \n",
       "763                     0.171   63  \n",
       "764                     0.340   27  \n",
       "765                     0.245   30  \n",
       "766                     0.349   47  \n",
       "767                     0.315   23  \n",
       "\n",
       "[768 rows x 8 columns]"
      ]
     },
     "execution_count": 9,
     "metadata": {},
     "output_type": "execute_result"
    }
   ],
   "source": [
    "X"
   ]
  },
  {
   "cell_type": "code",
   "execution_count": 10,
   "metadata": {
    "execution": {
     "iopub.execute_input": "2020-12-07T14:18:10.922660Z",
     "iopub.status.busy": "2020-12-07T14:18:10.921608Z",
     "iopub.status.idle": "2020-12-07T14:18:10.927293Z",
     "shell.execute_reply": "2020-12-07T14:18:10.926493Z"
    },
    "papermill": {
     "duration": 0.077536,
     "end_time": "2020-12-07T14:18:10.927412",
     "exception": false,
     "start_time": "2020-12-07T14:18:10.849876",
     "status": "completed"
    },
    "tags": []
   },
   "outputs": [
    {
     "data": {
      "text/plain": [
       "0      1\n",
       "1      0\n",
       "2      1\n",
       "3      0\n",
       "4      1\n",
       "      ..\n",
       "763    0\n",
       "764    0\n",
       "765    0\n",
       "766    1\n",
       "767    0\n",
       "Name: Outcome, Length: 768, dtype: int64"
      ]
     },
     "execution_count": 10,
     "metadata": {},
     "output_type": "execute_result"
    }
   ],
   "source": [
    "Y"
   ]
  },
  {
   "cell_type": "code",
   "execution_count": 11,
   "metadata": {
    "execution": {
     "iopub.execute_input": "2020-12-07T14:18:11.087598Z",
     "iopub.status.busy": "2020-12-07T14:18:11.080563Z",
     "iopub.status.idle": "2020-12-07T14:18:11.093162Z",
     "shell.execute_reply": "2020-12-07T14:18:11.093811Z"
    },
    "papermill": {
     "duration": 0.100093,
     "end_time": "2020-12-07T14:18:11.094020",
     "exception": false,
     "start_time": "2020-12-07T14:18:10.993927",
     "status": "completed"
    },
    "tags": []
   },
   "outputs": [
    {
     "data": {
      "text/html": [
       "<div>\n",
       "<style scoped>\n",
       "    .dataframe tbody tr th:only-of-type {\n",
       "        vertical-align: middle;\n",
       "    }\n",
       "\n",
       "    .dataframe tbody tr th {\n",
       "        vertical-align: top;\n",
       "    }\n",
       "\n",
       "    .dataframe thead th {\n",
       "        text-align: right;\n",
       "    }\n",
       "</style>\n",
       "<table border=\"1\" class=\"dataframe\">\n",
       "  <thead>\n",
       "    <tr style=\"text-align: right;\">\n",
       "      <th></th>\n",
       "      <th>Pregnancies</th>\n",
       "      <th>Glucose</th>\n",
       "      <th>BloodPressure</th>\n",
       "      <th>SkinThickness</th>\n",
       "      <th>Insulin</th>\n",
       "      <th>BMI</th>\n",
       "      <th>DiabetesPedigreeFunction</th>\n",
       "      <th>Age</th>\n",
       "    </tr>\n",
       "  </thead>\n",
       "  <tbody>\n",
       "    <tr>\n",
       "      <th>Pregnancies</th>\n",
       "      <td>1.000000</td>\n",
       "      <td>0.129459</td>\n",
       "      <td>0.141282</td>\n",
       "      <td>-0.081672</td>\n",
       "      <td>-0.073535</td>\n",
       "      <td>0.017683</td>\n",
       "      <td>-0.033523</td>\n",
       "      <td>0.544341</td>\n",
       "    </tr>\n",
       "    <tr>\n",
       "      <th>Glucose</th>\n",
       "      <td>0.129459</td>\n",
       "      <td>1.000000</td>\n",
       "      <td>0.152590</td>\n",
       "      <td>0.057328</td>\n",
       "      <td>0.331357</td>\n",
       "      <td>0.221071</td>\n",
       "      <td>0.137337</td>\n",
       "      <td>0.263514</td>\n",
       "    </tr>\n",
       "    <tr>\n",
       "      <th>BloodPressure</th>\n",
       "      <td>0.141282</td>\n",
       "      <td>0.152590</td>\n",
       "      <td>1.000000</td>\n",
       "      <td>0.207371</td>\n",
       "      <td>0.088933</td>\n",
       "      <td>0.281805</td>\n",
       "      <td>0.041265</td>\n",
       "      <td>0.239528</td>\n",
       "    </tr>\n",
       "    <tr>\n",
       "      <th>SkinThickness</th>\n",
       "      <td>-0.081672</td>\n",
       "      <td>0.057328</td>\n",
       "      <td>0.207371</td>\n",
       "      <td>1.000000</td>\n",
       "      <td>0.436783</td>\n",
       "      <td>0.392573</td>\n",
       "      <td>0.183928</td>\n",
       "      <td>-0.113970</td>\n",
       "    </tr>\n",
       "    <tr>\n",
       "      <th>Insulin</th>\n",
       "      <td>-0.073535</td>\n",
       "      <td>0.331357</td>\n",
       "      <td>0.088933</td>\n",
       "      <td>0.436783</td>\n",
       "      <td>1.000000</td>\n",
       "      <td>0.197859</td>\n",
       "      <td>0.185071</td>\n",
       "      <td>-0.042163</td>\n",
       "    </tr>\n",
       "    <tr>\n",
       "      <th>BMI</th>\n",
       "      <td>0.017683</td>\n",
       "      <td>0.221071</td>\n",
       "      <td>0.281805</td>\n",
       "      <td>0.392573</td>\n",
       "      <td>0.197859</td>\n",
       "      <td>1.000000</td>\n",
       "      <td>0.140647</td>\n",
       "      <td>0.036242</td>\n",
       "    </tr>\n",
       "    <tr>\n",
       "      <th>DiabetesPedigreeFunction</th>\n",
       "      <td>-0.033523</td>\n",
       "      <td>0.137337</td>\n",
       "      <td>0.041265</td>\n",
       "      <td>0.183928</td>\n",
       "      <td>0.185071</td>\n",
       "      <td>0.140647</td>\n",
       "      <td>1.000000</td>\n",
       "      <td>0.033561</td>\n",
       "    </tr>\n",
       "    <tr>\n",
       "      <th>Age</th>\n",
       "      <td>0.544341</td>\n",
       "      <td>0.263514</td>\n",
       "      <td>0.239528</td>\n",
       "      <td>-0.113970</td>\n",
       "      <td>-0.042163</td>\n",
       "      <td>0.036242</td>\n",
       "      <td>0.033561</td>\n",
       "      <td>1.000000</td>\n",
       "    </tr>\n",
       "  </tbody>\n",
       "</table>\n",
       "</div>"
      ],
      "text/plain": [
       "                          Pregnancies   Glucose  BloodPressure  SkinThickness  \\\n",
       "Pregnancies                  1.000000  0.129459       0.141282      -0.081672   \n",
       "Glucose                      0.129459  1.000000       0.152590       0.057328   \n",
       "BloodPressure                0.141282  0.152590       1.000000       0.207371   \n",
       "SkinThickness               -0.081672  0.057328       0.207371       1.000000   \n",
       "Insulin                     -0.073535  0.331357       0.088933       0.436783   \n",
       "BMI                          0.017683  0.221071       0.281805       0.392573   \n",
       "DiabetesPedigreeFunction    -0.033523  0.137337       0.041265       0.183928   \n",
       "Age                          0.544341  0.263514       0.239528      -0.113970   \n",
       "\n",
       "                           Insulin       BMI  DiabetesPedigreeFunction  \\\n",
       "Pregnancies              -0.073535  0.017683                 -0.033523   \n",
       "Glucose                   0.331357  0.221071                  0.137337   \n",
       "BloodPressure             0.088933  0.281805                  0.041265   \n",
       "SkinThickness             0.436783  0.392573                  0.183928   \n",
       "Insulin                   1.000000  0.197859                  0.185071   \n",
       "BMI                       0.197859  1.000000                  0.140647   \n",
       "DiabetesPedigreeFunction  0.185071  0.140647                  1.000000   \n",
       "Age                      -0.042163  0.036242                  0.033561   \n",
       "\n",
       "                               Age  \n",
       "Pregnancies               0.544341  \n",
       "Glucose                   0.263514  \n",
       "BloodPressure             0.239528  \n",
       "SkinThickness            -0.113970  \n",
       "Insulin                  -0.042163  \n",
       "BMI                       0.036242  \n",
       "DiabetesPedigreeFunction  0.033561  \n",
       "Age                       1.000000  "
      ]
     },
     "execution_count": 11,
     "metadata": {},
     "output_type": "execute_result"
    }
   ],
   "source": [
    "X.corr()"
   ]
  },
  {
   "cell_type": "code",
   "execution_count": 12,
   "metadata": {
    "execution": {
     "iopub.execute_input": "2020-12-07T14:18:11.250597Z",
     "iopub.status.busy": "2020-12-07T14:18:11.249539Z",
     "iopub.status.idle": "2020-12-07T14:18:11.289218Z",
     "shell.execute_reply": "2020-12-07T14:18:11.289835Z"
    },
    "papermill": {
     "duration": 0.11761,
     "end_time": "2020-12-07T14:18:11.290022",
     "exception": false,
     "start_time": "2020-12-07T14:18:11.172412",
     "status": "completed"
    },
    "tags": []
   },
   "outputs": [
    {
     "data": {
      "text/html": [
       "<div>\n",
       "<style scoped>\n",
       "    .dataframe tbody tr th:only-of-type {\n",
       "        vertical-align: middle;\n",
       "    }\n",
       "\n",
       "    .dataframe tbody tr th {\n",
       "        vertical-align: top;\n",
       "    }\n",
       "\n",
       "    .dataframe thead th {\n",
       "        text-align: right;\n",
       "    }\n",
       "</style>\n",
       "<table border=\"1\" class=\"dataframe\">\n",
       "  <thead>\n",
       "    <tr style=\"text-align: right;\">\n",
       "      <th></th>\n",
       "      <th>Pregnancies</th>\n",
       "      <th>Glucose</th>\n",
       "      <th>BloodPressure</th>\n",
       "      <th>SkinThickness</th>\n",
       "      <th>Insulin</th>\n",
       "      <th>BMI</th>\n",
       "      <th>DiabetesPedigreeFunction</th>\n",
       "      <th>Age</th>\n",
       "    </tr>\n",
       "  </thead>\n",
       "  <tbody>\n",
       "    <tr>\n",
       "      <th>Pregnancies</th>\n",
       "      <td>1.0</td>\n",
       "      <td>NaN</td>\n",
       "      <td>NaN</td>\n",
       "      <td>NaN</td>\n",
       "      <td>NaN</td>\n",
       "      <td>NaN</td>\n",
       "      <td>NaN</td>\n",
       "      <td>NaN</td>\n",
       "    </tr>\n",
       "    <tr>\n",
       "      <th>Glucose</th>\n",
       "      <td>NaN</td>\n",
       "      <td>1.0</td>\n",
       "      <td>NaN</td>\n",
       "      <td>NaN</td>\n",
       "      <td>NaN</td>\n",
       "      <td>NaN</td>\n",
       "      <td>NaN</td>\n",
       "      <td>NaN</td>\n",
       "    </tr>\n",
       "    <tr>\n",
       "      <th>BloodPressure</th>\n",
       "      <td>NaN</td>\n",
       "      <td>NaN</td>\n",
       "      <td>1.0</td>\n",
       "      <td>NaN</td>\n",
       "      <td>NaN</td>\n",
       "      <td>NaN</td>\n",
       "      <td>NaN</td>\n",
       "      <td>NaN</td>\n",
       "    </tr>\n",
       "    <tr>\n",
       "      <th>SkinThickness</th>\n",
       "      <td>NaN</td>\n",
       "      <td>NaN</td>\n",
       "      <td>NaN</td>\n",
       "      <td>1.0</td>\n",
       "      <td>NaN</td>\n",
       "      <td>NaN</td>\n",
       "      <td>NaN</td>\n",
       "      <td>NaN</td>\n",
       "    </tr>\n",
       "    <tr>\n",
       "      <th>Insulin</th>\n",
       "      <td>NaN</td>\n",
       "      <td>NaN</td>\n",
       "      <td>NaN</td>\n",
       "      <td>NaN</td>\n",
       "      <td>1.0</td>\n",
       "      <td>NaN</td>\n",
       "      <td>NaN</td>\n",
       "      <td>NaN</td>\n",
       "    </tr>\n",
       "    <tr>\n",
       "      <th>BMI</th>\n",
       "      <td>NaN</td>\n",
       "      <td>NaN</td>\n",
       "      <td>NaN</td>\n",
       "      <td>NaN</td>\n",
       "      <td>NaN</td>\n",
       "      <td>1.0</td>\n",
       "      <td>NaN</td>\n",
       "      <td>NaN</td>\n",
       "    </tr>\n",
       "    <tr>\n",
       "      <th>DiabetesPedigreeFunction</th>\n",
       "      <td>NaN</td>\n",
       "      <td>NaN</td>\n",
       "      <td>NaN</td>\n",
       "      <td>NaN</td>\n",
       "      <td>NaN</td>\n",
       "      <td>NaN</td>\n",
       "      <td>1.0</td>\n",
       "      <td>NaN</td>\n",
       "    </tr>\n",
       "    <tr>\n",
       "      <th>Age</th>\n",
       "      <td>NaN</td>\n",
       "      <td>NaN</td>\n",
       "      <td>NaN</td>\n",
       "      <td>NaN</td>\n",
       "      <td>NaN</td>\n",
       "      <td>NaN</td>\n",
       "      <td>NaN</td>\n",
       "      <td>1.0</td>\n",
       "    </tr>\n",
       "  </tbody>\n",
       "</table>\n",
       "</div>"
      ],
      "text/plain": [
       "                          Pregnancies  Glucose  BloodPressure  SkinThickness  \\\n",
       "Pregnancies                       1.0      NaN            NaN            NaN   \n",
       "Glucose                           NaN      1.0            NaN            NaN   \n",
       "BloodPressure                     NaN      NaN            1.0            NaN   \n",
       "SkinThickness                     NaN      NaN            NaN            1.0   \n",
       "Insulin                           NaN      NaN            NaN            NaN   \n",
       "BMI                               NaN      NaN            NaN            NaN   \n",
       "DiabetesPedigreeFunction          NaN      NaN            NaN            NaN   \n",
       "Age                               NaN      NaN            NaN            NaN   \n",
       "\n",
       "                          Insulin  BMI  DiabetesPedigreeFunction  Age  \n",
       "Pregnancies                   NaN  NaN                       NaN  NaN  \n",
       "Glucose                       NaN  NaN                       NaN  NaN  \n",
       "BloodPressure                 NaN  NaN                       NaN  NaN  \n",
       "SkinThickness                 NaN  NaN                       NaN  NaN  \n",
       "Insulin                       1.0  NaN                       NaN  NaN  \n",
       "BMI                           NaN  1.0                       NaN  NaN  \n",
       "DiabetesPedigreeFunction      NaN  NaN                       1.0  NaN  \n",
       "Age                           NaN  NaN                       NaN  1.0  "
      ]
     },
     "execution_count": 12,
     "metadata": {},
     "output_type": "execute_result"
    }
   ],
   "source": [
    "X.corr()[(X.corr()>=0.8) | (X.corr()<=-0.8)]"
   ]
  },
  {
   "cell_type": "markdown",
   "metadata": {
    "papermill": {
     "duration": 0.068424,
     "end_time": "2020-12-07T14:18:11.427236",
     "exception": false,
     "start_time": "2020-12-07T14:18:11.358812",
     "status": "completed"
    },
    "tags": []
   },
   "source": [
    "# OVERSAMPLING"
   ]
  },
  {
   "cell_type": "code",
   "execution_count": 13,
   "metadata": {
    "execution": {
     "iopub.execute_input": "2020-12-07T14:18:11.571604Z",
     "iopub.status.busy": "2020-12-07T14:18:11.570784Z",
     "iopub.status.idle": "2020-12-07T14:18:11.581575Z",
     "shell.execute_reply": "2020-12-07T14:18:11.582282Z"
    },
    "papermill": {
     "duration": 0.086354,
     "end_time": "2020-12-07T14:18:11.582444",
     "exception": false,
     "start_time": "2020-12-07T14:18:11.496090",
     "status": "completed"
    },
    "tags": []
   },
   "outputs": [],
   "source": [
    "from imblearn.over_sampling import RandomOverSampler\n",
    "\n",
    "ros=RandomOverSampler()\n",
    "x_res,y_res=ros.fit_sample(X,Y)"
   ]
  },
  {
   "cell_type": "code",
   "execution_count": 14,
   "metadata": {
    "execution": {
     "iopub.execute_input": "2020-12-07T14:18:11.725333Z",
     "iopub.status.busy": "2020-12-07T14:18:11.724500Z",
     "iopub.status.idle": "2020-12-07T14:18:11.738060Z",
     "shell.execute_reply": "2020-12-07T14:18:11.737415Z"
    },
    "papermill": {
     "duration": 0.085978,
     "end_time": "2020-12-07T14:18:11.738162",
     "exception": false,
     "start_time": "2020-12-07T14:18:11.652184",
     "status": "completed"
    },
    "tags": []
   },
   "outputs": [],
   "source": [
    "from sklearn.model_selection import train_test_split\n",
    "\n",
    "x_train, x_test, y_train, y_test= train_test_split(x_res,y_res, random_state=42, test_size=0.2, stratify=y_res)"
   ]
  },
  {
   "cell_type": "code",
   "execution_count": 15,
   "metadata": {
    "execution": {
     "iopub.execute_input": "2020-12-07T14:18:11.837851Z",
     "iopub.status.busy": "2020-12-07T14:18:11.837049Z",
     "iopub.status.idle": "2020-12-07T14:18:11.842479Z",
     "shell.execute_reply": "2020-12-07T14:18:11.843146Z"
    },
    "papermill": {
     "duration": 0.059181,
     "end_time": "2020-12-07T14:18:11.843311",
     "exception": false,
     "start_time": "2020-12-07T14:18:11.784130",
     "status": "completed"
    },
    "tags": []
   },
   "outputs": [
    {
     "name": "stdout",
     "output_type": "stream",
     "text": [
      "800 200 \n",
      "800 200 "
     ]
    }
   ],
   "source": [
    "print(len(x_train),len(x_test), end=' ')\n",
    "print()\n",
    "\n",
    "print(len(y_train),len(y_test),end=' ')"
   ]
  },
  {
   "cell_type": "code",
   "execution_count": 16,
   "metadata": {
    "execution": {
     "iopub.execute_input": "2020-12-07T14:18:11.951621Z",
     "iopub.status.busy": "2020-12-07T14:18:11.945054Z",
     "iopub.status.idle": "2020-12-07T14:18:11.967370Z",
     "shell.execute_reply": "2020-12-07T14:18:11.966626Z"
    },
    "papermill": {
     "duration": 0.076745,
     "end_time": "2020-12-07T14:18:11.967505",
     "exception": false,
     "start_time": "2020-12-07T14:18:11.890760",
     "status": "completed"
    },
    "tags": []
   },
   "outputs": [
    {
     "name": "stdout",
     "output_type": "stream",
     "text": [
      "Glucose....768\n",
      "SkinThickness....768\n",
      "BloodPressure....768\n",
      "BMI....768\n",
      "DiabetesPedigreeFunction....768\n",
      "Insulin....768\n",
      "Age....768\n",
      "Pregnancies....768\n"
     ]
    }
   ],
   "source": [
    "for x in set(X):\n",
    "    print('{}....{}'.format(x,len(X[X==x])))"
   ]
  },
  {
   "cell_type": "code",
   "execution_count": 17,
   "metadata": {
    "execution": {
     "iopub.execute_input": "2020-12-07T14:18:12.117356Z",
     "iopub.status.busy": "2020-12-07T14:18:12.116541Z",
     "iopub.status.idle": "2020-12-07T14:18:12.122167Z",
     "shell.execute_reply": "2020-12-07T14:18:12.121355Z"
    },
    "papermill": {
     "duration": 0.083223,
     "end_time": "2020-12-07T14:18:12.122291",
     "exception": false,
     "start_time": "2020-12-07T14:18:12.039068",
     "status": "completed"
    },
    "tags": []
   },
   "outputs": [
    {
     "name": "stdout",
     "output_type": "stream",
     "text": [
      "0....500\n",
      "1....268\n"
     ]
    }
   ],
   "source": [
    "for y in set(Y):\n",
    "    print('{}....{}'.format(y,len(Y[Y==y])))"
   ]
  },
  {
   "cell_type": "code",
   "execution_count": 18,
   "metadata": {
    "execution": {
     "iopub.execute_input": "2020-12-07T14:18:12.276551Z",
     "iopub.status.busy": "2020-12-07T14:18:12.275041Z",
     "iopub.status.idle": "2020-12-07T14:18:12.303136Z",
     "shell.execute_reply": "2020-12-07T14:18:12.302468Z"
    },
    "papermill": {
     "duration": 0.108705,
     "end_time": "2020-12-07T14:18:12.303243",
     "exception": false,
     "start_time": "2020-12-07T14:18:12.194538",
     "status": "completed"
    },
    "tags": []
   },
   "outputs": [
    {
     "name": "stdout",
     "output_type": "stream",
     "text": [
      "Glucose....1000\n",
      "SkinThickness....1000\n",
      "BloodPressure....1000\n",
      "BMI....1000\n",
      "DiabetesPedigreeFunction....1000\n",
      "Insulin....1000\n",
      "Age....1000\n",
      "Pregnancies....1000\n"
     ]
    }
   ],
   "source": [
    "for x in set(x_res):\n",
    "    print('{}....{}'.format(x,len(x_res[x_res==x])))"
   ]
  },
  {
   "cell_type": "code",
   "execution_count": 19,
   "metadata": {
    "execution": {
     "iopub.execute_input": "2020-12-07T14:18:12.406837Z",
     "iopub.status.busy": "2020-12-07T14:18:12.405660Z",
     "iopub.status.idle": "2020-12-07T14:18:12.411369Z",
     "shell.execute_reply": "2020-12-07T14:18:12.410566Z"
    },
    "papermill": {
     "duration": 0.060218,
     "end_time": "2020-12-07T14:18:12.411668",
     "exception": false,
     "start_time": "2020-12-07T14:18:12.351450",
     "status": "completed"
    },
    "tags": []
   },
   "outputs": [
    {
     "name": "stdout",
     "output_type": "stream",
     "text": [
      "0....500\n",
      "1....500\n"
     ]
    }
   ],
   "source": [
    "for y in set(y_res):\n",
    "    print('{}....{}'.format(y,len(y_res[y_res==y])))"
   ]
  },
  {
   "cell_type": "code",
   "execution_count": 20,
   "metadata": {
    "execution": {
     "iopub.execute_input": "2020-12-07T14:18:12.564537Z",
     "iopub.status.busy": "2020-12-07T14:18:12.563653Z",
     "iopub.status.idle": "2020-12-07T14:18:12.587123Z",
     "shell.execute_reply": "2020-12-07T14:18:12.587791Z"
    },
    "papermill": {
     "duration": 0.102688,
     "end_time": "2020-12-07T14:18:12.587977",
     "exception": false,
     "start_time": "2020-12-07T14:18:12.485289",
     "status": "completed"
    },
    "tags": []
   },
   "outputs": [
    {
     "name": "stdout",
     "output_type": "stream",
     "text": [
      "Glucose....800\n",
      "SkinThickness....800\n",
      "BloodPressure....800\n",
      "BMI....800\n",
      "DiabetesPedigreeFunction....800\n",
      "Insulin....800\n",
      "Age....800\n",
      "Pregnancies....800\n"
     ]
    }
   ],
   "source": [
    "for x in set(x_train):\n",
    "    print('{}....{}'.format(x,len(x_train[x_train==x])))"
   ]
  },
  {
   "cell_type": "code",
   "execution_count": 21,
   "metadata": {
    "execution": {
     "iopub.execute_input": "2020-12-07T14:18:12.744615Z",
     "iopub.status.busy": "2020-12-07T14:18:12.743768Z",
     "iopub.status.idle": "2020-12-07T14:18:12.768291Z",
     "shell.execute_reply": "2020-12-07T14:18:12.767241Z"
    },
    "papermill": {
     "duration": 0.106179,
     "end_time": "2020-12-07T14:18:12.768446",
     "exception": false,
     "start_time": "2020-12-07T14:18:12.662267",
     "status": "completed"
    },
    "tags": []
   },
   "outputs": [
    {
     "name": "stdout",
     "output_type": "stream",
     "text": [
      "Glucose....200\n",
      "SkinThickness....200\n",
      "BloodPressure....200\n",
      "BMI....200\n",
      "DiabetesPedigreeFunction....200\n",
      "Insulin....200\n",
      "Age....200\n",
      "Pregnancies....200\n"
     ]
    }
   ],
   "source": [
    "for x in set(x_test):\n",
    "    print('{}....{}'.format(x,len(x_test[x_test==x])))"
   ]
  },
  {
   "cell_type": "code",
   "execution_count": 22,
   "metadata": {
    "execution": {
     "iopub.execute_input": "2020-12-07T14:18:12.926365Z",
     "iopub.status.busy": "2020-12-07T14:18:12.925547Z",
     "iopub.status.idle": "2020-12-07T14:18:12.929691Z",
     "shell.execute_reply": "2020-12-07T14:18:12.928862Z"
    },
    "papermill": {
     "duration": 0.087129,
     "end_time": "2020-12-07T14:18:12.929814",
     "exception": false,
     "start_time": "2020-12-07T14:18:12.842685",
     "status": "completed"
    },
    "tags": []
   },
   "outputs": [
    {
     "name": "stdout",
     "output_type": "stream",
     "text": [
      "0....400\n",
      "1....400\n"
     ]
    }
   ],
   "source": [
    "for y in set(y_train):\n",
    "    print('{}....{}'.format(y,len(y_train[y_train==y])))"
   ]
  },
  {
   "cell_type": "code",
   "execution_count": 23,
   "metadata": {
    "execution": {
     "iopub.execute_input": "2020-12-07T14:18:13.087819Z",
     "iopub.status.busy": "2020-12-07T14:18:13.086970Z",
     "iopub.status.idle": "2020-12-07T14:18:13.090779Z",
     "shell.execute_reply": "2020-12-07T14:18:13.089990Z"
    },
    "papermill": {
     "duration": 0.085473,
     "end_time": "2020-12-07T14:18:13.090898",
     "exception": false,
     "start_time": "2020-12-07T14:18:13.005425",
     "status": "completed"
    },
    "tags": []
   },
   "outputs": [
    {
     "name": "stdout",
     "output_type": "stream",
     "text": [
      "0....100\n",
      "1....100\n"
     ]
    }
   ],
   "source": [
    "for y in set(y_test):\n",
    "    print('{}....{}'.format(y,len(y_test[y_test==y])))"
   ]
  },
  {
   "cell_type": "code",
   "execution_count": 24,
   "metadata": {
    "execution": {
     "iopub.execute_input": "2020-12-07T14:18:13.249520Z",
     "iopub.status.busy": "2020-12-07T14:18:13.248714Z",
     "iopub.status.idle": "2020-12-07T14:18:13.252586Z",
     "shell.execute_reply": "2020-12-07T14:18:13.251845Z"
    },
    "papermill": {
     "duration": 0.085601,
     "end_time": "2020-12-07T14:18:13.252700",
     "exception": false,
     "start_time": "2020-12-07T14:18:13.167099",
     "status": "completed"
    },
    "tags": []
   },
   "outputs": [],
   "source": [
    "from sklearn.linear_model import LogisticRegression\n",
    "from sklearn.svm import SVC"
   ]
  },
  {
   "cell_type": "code",
   "execution_count": 25,
   "metadata": {
    "execution": {
     "iopub.execute_input": "2020-12-07T14:18:13.415633Z",
     "iopub.status.busy": "2020-12-07T14:18:13.412585Z",
     "iopub.status.idle": "2020-12-07T14:18:13.419106Z",
     "shell.execute_reply": "2020-12-07T14:18:13.418305Z"
    },
    "papermill": {
     "duration": 0.090498,
     "end_time": "2020-12-07T14:18:13.419220",
     "exception": false,
     "start_time": "2020-12-07T14:18:13.328722",
     "status": "completed"
    },
    "tags": []
   },
   "outputs": [],
   "source": [
    "#lr=LogisticRegression()\n",
    "#lr.fit(x_train, y_train)\n",
    "\n",
    "from sklearn.preprocessing import StandardScaler\n",
    "sc_x=StandardScaler()\n",
    "x_train_scaled=sc_x.fit_transform(x_train)\n",
    "\n",
    "\n",
    "#svc=SVC(kernel='rbf', gamma=2, C=0.000000001)\n",
    "svc=SVC()"
   ]
  },
  {
   "cell_type": "code",
   "execution_count": 26,
   "metadata": {
    "execution": {
     "iopub.execute_input": "2020-12-07T14:18:13.575086Z",
     "iopub.status.busy": "2020-12-07T14:18:13.574284Z",
     "iopub.status.idle": "2020-12-07T14:18:13.578750Z",
     "shell.execute_reply": "2020-12-07T14:18:13.577969Z"
    },
    "papermill": {
     "duration": 0.084003,
     "end_time": "2020-12-07T14:18:13.578864",
     "exception": false,
     "start_time": "2020-12-07T14:18:13.494861",
     "status": "completed"
    },
    "tags": []
   },
   "outputs": [],
   "source": [
    "#from sklearn.model_selection import cross_val_predict\n",
    "\n",
    "#y_probas= cross_val_predict(lr,x_train, y_train,cv=5,\n",
    "#                              method='predict_proba')"
   ]
  },
  {
   "cell_type": "code",
   "execution_count": 27,
   "metadata": {
    "execution": {
     "iopub.execute_input": "2020-12-07T14:18:13.738040Z",
     "iopub.status.busy": "2020-12-07T14:18:13.736862Z",
     "iopub.status.idle": "2020-12-07T14:18:13.739626Z",
     "shell.execute_reply": "2020-12-07T14:18:13.739063Z"
    },
    "papermill": {
     "duration": 0.084158,
     "end_time": "2020-12-07T14:18:13.739732",
     "exception": false,
     "start_time": "2020-12-07T14:18:13.655574",
     "status": "completed"
    },
    "tags": []
   },
   "outputs": [],
   "source": [
    "#precisions, recalls, thresholds= precision_recall_curve(y_train, y_probas[:,1])"
   ]
  },
  {
   "cell_type": "code",
   "execution_count": 28,
   "metadata": {
    "execution": {
     "iopub.execute_input": "2020-12-07T14:18:13.846746Z",
     "iopub.status.busy": "2020-12-07T14:18:13.846155Z",
     "iopub.status.idle": "2020-12-07T14:18:13.849723Z",
     "shell.execute_reply": "2020-12-07T14:18:13.849139Z"
    },
    "papermill": {
     "duration": 0.058253,
     "end_time": "2020-12-07T14:18:13.849821",
     "exception": false,
     "start_time": "2020-12-07T14:18:13.791568",
     "status": "completed"
    },
    "tags": []
   },
   "outputs": [],
   "source": [
    "#px.line(x=recalls,y=precisions,labels=dict(x=\"Recall\", y=\"Precision\"))"
   ]
  },
  {
   "cell_type": "code",
   "execution_count": 29,
   "metadata": {
    "execution": {
     "iopub.execute_input": "2020-12-07T14:18:13.955466Z",
     "iopub.status.busy": "2020-12-07T14:18:13.954837Z",
     "iopub.status.idle": "2020-12-07T14:18:13.957413Z",
     "shell.execute_reply": "2020-12-07T14:18:13.956815Z"
    },
    "papermill": {
     "duration": 0.056034,
     "end_time": "2020-12-07T14:18:13.957508",
     "exception": false,
     "start_time": "2020-12-07T14:18:13.901474",
     "status": "completed"
    },
    "tags": []
   },
   "outputs": [],
   "source": [
    "#from sklearn.metrics import roc_curve\n",
    "\n",
    "#fpr, tpr, thresholds=roc_curve(y_train, y_probas[:,1])"
   ]
  },
  {
   "cell_type": "code",
   "execution_count": 30,
   "metadata": {
    "execution": {
     "iopub.execute_input": "2020-12-07T14:18:14.064043Z",
     "iopub.status.busy": "2020-12-07T14:18:14.063411Z",
     "iopub.status.idle": "2020-12-07T14:18:14.066443Z",
     "shell.execute_reply": "2020-12-07T14:18:14.067044Z"
    },
    "papermill": {
     "duration": 0.058275,
     "end_time": "2020-12-07T14:18:14.067165",
     "exception": false,
     "start_time": "2020-12-07T14:18:14.008890",
     "status": "completed"
    },
    "tags": []
   },
   "outputs": [],
   "source": [
    "#plt.plot(fpr, tpr, \"b:\", label=\"Linear reg\")\n",
    "#plt.plot(fpr, tpr, linewidth=2, label='linear reg')\n",
    "#plt.plot([0, 1], [0, 1], 'k--') # dashed diagonal\n",
    "#plt.legend(loc=\"lower right\")\n",
    "#plt.show()"
   ]
  },
  {
   "cell_type": "code",
   "execution_count": 31,
   "metadata": {
    "execution": {
     "iopub.execute_input": "2020-12-07T14:18:14.173986Z",
     "iopub.status.busy": "2020-12-07T14:18:14.173266Z",
     "iopub.status.idle": "2020-12-07T14:18:14.178722Z",
     "shell.execute_reply": "2020-12-07T14:18:14.178094Z"
    },
    "papermill": {
     "duration": 0.059736,
     "end_time": "2020-12-07T14:18:14.178825",
     "exception": false,
     "start_time": "2020-12-07T14:18:14.119089",
     "status": "completed"
    },
    "tags": []
   },
   "outputs": [],
   "source": [
    "#from sklearn.metrics import roc_auc_score\n",
    "#roc_auc_score(y_train, y_probas[:,1])"
   ]
  },
  {
   "cell_type": "code",
   "execution_count": 32,
   "metadata": {
    "execution": {
     "iopub.execute_input": "2020-12-07T14:18:14.286439Z",
     "iopub.status.busy": "2020-12-07T14:18:14.285798Z",
     "iopub.status.idle": "2020-12-07T14:18:14.288372Z",
     "shell.execute_reply": "2020-12-07T14:18:14.288891Z"
    },
    "papermill": {
     "duration": 0.058157,
     "end_time": "2020-12-07T14:18:14.289054",
     "exception": false,
     "start_time": "2020-12-07T14:18:14.230897",
     "status": "completed"
    },
    "tags": []
   },
   "outputs": [],
   "source": [
    "#from sklearn.metrics import precision_recall_curve\n",
    "\n",
    "#precisions, recalls, thresholds= precision_recall_curve(y_train, y_scores[:,1])"
   ]
  },
  {
   "cell_type": "code",
   "execution_count": 33,
   "metadata": {
    "execution": {
     "iopub.execute_input": "2020-12-07T14:18:14.395411Z",
     "iopub.status.busy": "2020-12-07T14:18:14.394782Z",
     "iopub.status.idle": "2020-12-07T14:18:14.398847Z",
     "shell.execute_reply": "2020-12-07T14:18:14.399449Z"
    },
    "papermill": {
     "duration": 0.058819,
     "end_time": "2020-12-07T14:18:14.399570",
     "exception": false,
     "start_time": "2020-12-07T14:18:14.340751",
     "status": "completed"
    },
    "tags": []
   },
   "outputs": [],
   "source": [
    "#plt.plot(thresholds, precisions[:-1], \"b--\", label=\"Precision\")\n",
    "#plt.plot(thresholds, recalls[:-1], \"g-\", label=\"Recall\")"
   ]
  },
  {
   "cell_type": "code",
   "execution_count": 34,
   "metadata": {
    "execution": {
     "iopub.execute_input": "2020-12-07T14:18:14.506024Z",
     "iopub.status.busy": "2020-12-07T14:18:14.505410Z",
     "iopub.status.idle": "2020-12-07T14:18:25.044544Z",
     "shell.execute_reply": "2020-12-07T14:18:25.043867Z"
    },
    "papermill": {
     "duration": 10.593446,
     "end_time": "2020-12-07T14:18:25.044650",
     "exception": false,
     "start_time": "2020-12-07T14:18:14.451204",
     "status": "completed"
    },
    "tags": []
   },
   "outputs": [
    {
     "data": {
      "text/plain": [
       "GridSearchCV(cv=10, estimator=SVC(), n_jobs=-1,\n",
       "             param_grid={'C': [0.1, 0.01, 0.001, 0.0001, 1e-05, 1e-06, 1e-07,\n",
       "                               1e-08, 1e-09, 1, 2, 3, 4, 5, 6, 7, 8, 9, 10,\n",
       "                               100],\n",
       "                         'gamma': [1, 2, 3], 'kernel': ['rbf']},\n",
       "             scoring='f1')"
      ]
     },
     "execution_count": 34,
     "metadata": {},
     "output_type": "execute_result"
    }
   ],
   "source": [
    "from sklearn.model_selection import GridSearchCV\n",
    "\n",
    "#kernel='rbf', gamma=2, C=0.000000001\n",
    "\n",
    "params={\n",
    "    'kernel':['rbf'],\n",
    "    'gamma':[1,2,3],\n",
    "    'C':[1e-1,1e-2,1e-3,1e-4,1e-5,1e-6,1e-7,1e-8,1e-9,1,2,3,4,5,6,7,8,9,10,100]\n",
    "}\n",
    "\n",
    "#scoring={'precision':'precision', 'recall':'recall'}\n",
    "#gs=GridSearchCV(svc, cv=5, param_grid=params, n_jobs=-1, \n",
    "#                scoring=scoring,\n",
    "#               refit='precision')\n",
    "\n",
    "gs=GridSearchCV(svc, cv=10, param_grid=params, n_jobs=-1, \n",
    "                scoring='f1')\n",
    "gs.fit(x_train_scaled, y_train)"
   ]
  },
  {
   "cell_type": "code",
   "execution_count": 35,
   "metadata": {
    "execution": {
     "iopub.execute_input": "2020-12-07T14:18:25.156680Z",
     "iopub.status.busy": "2020-12-07T14:18:25.155882Z",
     "iopub.status.idle": "2020-12-07T14:18:25.162089Z",
     "shell.execute_reply": "2020-12-07T14:18:25.161373Z"
    },
    "papermill": {
     "duration": 0.064667,
     "end_time": "2020-12-07T14:18:25.162225",
     "exception": false,
     "start_time": "2020-12-07T14:18:25.097558",
     "status": "completed"
    },
    "tags": []
   },
   "outputs": [],
   "source": [
    "#gamma=2, C=0.000000001"
   ]
  },
  {
   "cell_type": "code",
   "execution_count": 36,
   "metadata": {
    "execution": {
     "iopub.execute_input": "2020-12-07T14:18:25.327358Z",
     "iopub.status.busy": "2020-12-07T14:18:25.326520Z",
     "iopub.status.idle": "2020-12-07T14:18:25.330976Z",
     "shell.execute_reply": "2020-12-07T14:18:25.330160Z"
    },
    "papermill": {
     "duration": 0.088768,
     "end_time": "2020-12-07T14:18:25.331093",
     "exception": false,
     "start_time": "2020-12-07T14:18:25.242325",
     "status": "completed"
    },
    "tags": []
   },
   "outputs": [
    {
     "name": "stdout",
     "output_type": "stream",
     "text": [
      "{'C': 2, 'gamma': 1, 'kernel': 'rbf'}\n",
      "0.8145102099868387\n"
     ]
    }
   ],
   "source": [
    "print(gs.best_params_)\n",
    "print(gs.best_score_)"
   ]
  },
  {
   "cell_type": "code",
   "execution_count": 37,
   "metadata": {
    "execution": {
     "iopub.execute_input": "2020-12-07T14:18:25.498473Z",
     "iopub.status.busy": "2020-12-07T14:18:25.497483Z",
     "iopub.status.idle": "2020-12-07T14:18:25.567755Z",
     "shell.execute_reply": "2020-12-07T14:18:25.567035Z"
    },
    "papermill": {
     "duration": 0.158346,
     "end_time": "2020-12-07T14:18:25.567877",
     "exception": false,
     "start_time": "2020-12-07T14:18:25.409531",
     "status": "completed"
    },
    "tags": []
   },
   "outputs": [
    {
     "name": "stdout",
     "output_type": "stream",
     "text": [
      "2.0\n",
      "1.0\n",
      "rbf\n"
     ]
    }
   ],
   "source": [
    "svc_best=SVC(C= float(gs.best_params_.get('C')), gamma= float(gs.best_params_.get('gamma')), \n",
    "             kernel= gs.best_params_.get('kernel'))\n",
    "\n",
    "svc_best.fit(x_train_scaled, y_train)\n",
    "\n",
    "print(float(gs.best_params_.get('C')))\n",
    "print(float(gs.best_params_.get('gamma')))\n",
    "print(str(gs.best_params_.get('kernel')))"
   ]
  },
  {
   "cell_type": "code",
   "execution_count": 38,
   "metadata": {
    "execution": {
     "iopub.execute_input": "2020-12-07T14:18:25.738714Z",
     "iopub.status.busy": "2020-12-07T14:18:25.737883Z",
     "iopub.status.idle": "2020-12-07T14:18:25.809182Z",
     "shell.execute_reply": "2020-12-07T14:18:25.808096Z"
    },
    "papermill": {
     "duration": 0.160952,
     "end_time": "2020-12-07T14:18:25.809332",
     "exception": false,
     "start_time": "2020-12-07T14:18:25.648380",
     "status": "completed"
    },
    "tags": []
   },
   "outputs": [
    {
     "name": "stdout",
     "output_type": "stream",
     "text": [
      "[[398   2]\n",
      " [  4 396]]\n",
      "\n",
      "\n",
      "              precision    recall  f1-score   support\n",
      "\n",
      "           0       0.99      0.99      0.99       400\n",
      "           1       0.99      0.99      0.99       400\n",
      "\n",
      "    accuracy                           0.99       800\n",
      "   macro avg       0.99      0.99      0.99       800\n",
      "weighted avg       0.99      0.99      0.99       800\n",
      "\n",
      "\n",
      "\n",
      "Precision = 0.9949748743718593\n",
      "Recall = 0.99\n",
      "f1-score = 0.9924812030075189\n"
     ]
    }
   ],
   "source": [
    "from sklearn.metrics import confusion_matrix\n",
    "from sklearn.metrics import classification_report\n",
    "from sklearn.metrics import precision_score, recall_score,f1_score\n",
    "\n",
    "\n",
    "y_train_pred=svc_best.predict(x_train_scaled)\n",
    "print(confusion_matrix(y_train,y_train_pred))\n",
    "print()\n",
    "print()\n",
    "print(classification_report(y_train,y_train_pred))\n",
    "print()\n",
    "print()\n",
    "print('Precision =',precision_score(y_train, y_train_pred))\n",
    "print('Recall =',recall_score(y_train, y_train_pred))\n",
    "print('f1-score =',f1_score(y_train, y_train_pred))"
   ]
  },
  {
   "cell_type": "code",
   "execution_count": 39,
   "metadata": {
    "execution": {
     "iopub.execute_input": "2020-12-07T14:18:25.980837Z",
     "iopub.status.busy": "2020-12-07T14:18:25.979715Z",
     "iopub.status.idle": "2020-12-07T14:18:26.259739Z",
     "shell.execute_reply": "2020-12-07T14:18:26.258901Z"
    },
    "papermill": {
     "duration": 0.368759,
     "end_time": "2020-12-07T14:18:26.259862",
     "exception": false,
     "start_time": "2020-12-07T14:18:25.891103",
     "status": "completed"
    },
    "tags": []
   },
   "outputs": [
    {
     "name": "stdout",
     "output_type": "stream",
     "text": [
      "[[299 101]\n",
      " [ 55 345]]\n",
      "\n",
      "\n",
      "              precision    recall  f1-score   support\n",
      "\n",
      "           0       0.84      0.75      0.79       400\n",
      "           1       0.77      0.86      0.82       400\n",
      "\n",
      "    accuracy                           0.81       800\n",
      "   macro avg       0.81      0.81      0.80       800\n",
      "weighted avg       0.81      0.81      0.80       800\n",
      "\n",
      "\n",
      "\n",
      "Precision = 0.773542600896861\n",
      "Recall = 0.8625\n",
      "f1-score = 0.8156028368794327\n"
     ]
    }
   ],
   "source": [
    "from sklearn.metrics import confusion_matrix\n",
    "from sklearn.metrics import classification_report\n",
    "from sklearn.metrics import precision_score, recall_score,f1_score\n",
    "from sklearn.model_selection import cross_val_predict\n",
    "\n",
    "\n",
    "#y_train_pred=svc_best.predict(x_train_scaled)\n",
    "y_train_pred= cross_val_predict(svc_best, x_train_scaled, y_train,cv=10)\n",
    "print(confusion_matrix(y_train,y_train_pred))\n",
    "print()\n",
    "print()\n",
    "print(classification_report(y_train,y_train_pred))\n",
    "print()\n",
    "print()\n",
    "print('Precision =',precision_score(y_train, y_train_pred))\n",
    "print('Recall =',recall_score(y_train, y_train_pred))\n",
    "print('f1-score =',f1_score(y_train, y_train_pred))"
   ]
  },
  {
   "cell_type": "code",
   "execution_count": 40,
   "metadata": {
    "execution": {
     "iopub.execute_input": "2020-12-07T14:18:26.433080Z",
     "iopub.status.busy": "2020-12-07T14:18:26.432262Z",
     "iopub.status.idle": "2020-12-07T14:18:26.455860Z",
     "shell.execute_reply": "2020-12-07T14:18:26.455177Z"
    },
    "papermill": {
     "duration": 0.11425,
     "end_time": "2020-12-07T14:18:26.456023",
     "exception": false,
     "start_time": "2020-12-07T14:18:26.341773",
     "status": "completed"
    },
    "tags": []
   },
   "outputs": [
    {
     "name": "stdout",
     "output_type": "stream",
     "text": [
      "[[71 29]\n",
      " [ 7 93]]\n",
      "\n",
      "\n",
      "              precision    recall  f1-score   support\n",
      "\n",
      "           0       0.91      0.71      0.80       100\n",
      "           1       0.76      0.93      0.84       100\n",
      "\n",
      "    accuracy                           0.82       200\n",
      "   macro avg       0.84      0.82      0.82       200\n",
      "weighted avg       0.84      0.82      0.82       200\n",
      "\n",
      "\n",
      "Precision = 0.7622950819672131\n",
      "Recall = 0.93\n",
      "f1-score = 0.8378378378378378\n"
     ]
    }
   ],
   "source": [
    "y_test_pred=svc_best.predict(sc_x.transform(x_test))\n",
    "print(confusion_matrix(y_test, y_test_pred))\n",
    "print()\n",
    "print()\n",
    "from sklearn.metrics import classification_report\n",
    "\n",
    "print(classification_report(y_test, y_test_pred))\n",
    "print()\n",
    "print('Precision =',precision_score(y_test, y_test_pred))\n",
    "print('Recall =',recall_score(y_test, y_test_pred))\n",
    "print('f1-score =',f1_score(y_test, y_test_pred))"
   ]
  },
  {
   "cell_type": "markdown",
   "metadata": {
    "papermill": {
     "duration": 0.083708,
     "end_time": "2020-12-07T14:18:26.622578",
     "exception": false,
     "start_time": "2020-12-07T14:18:26.538870",
     "status": "completed"
    },
    "tags": []
   },
   "source": [
    "# SMOTE"
   ]
  },
  {
   "cell_type": "code",
   "execution_count": 41,
   "metadata": {
    "execution": {
     "iopub.execute_input": "2020-12-07T14:18:26.793134Z",
     "iopub.status.busy": "2020-12-07T14:18:26.792335Z",
     "iopub.status.idle": "2020-12-07T14:18:26.796378Z",
     "shell.execute_reply": "2020-12-07T14:18:26.795508Z"
    },
    "papermill": {
     "duration": 0.090399,
     "end_time": "2020-12-07T14:18:26.796521",
     "exception": false,
     "start_time": "2020-12-07T14:18:26.706122",
     "status": "completed"
    },
    "tags": []
   },
   "outputs": [],
   "source": [
    "from sklearn.linear_model import LogisticRegression"
   ]
  },
  {
   "cell_type": "code",
   "execution_count": 42,
   "metadata": {
    "execution": {
     "iopub.execute_input": "2020-12-07T14:18:26.984318Z",
     "iopub.status.busy": "2020-12-07T14:18:26.982669Z",
     "iopub.status.idle": "2020-12-07T14:18:27.013531Z",
     "shell.execute_reply": "2020-12-07T14:18:27.012561Z"
    },
    "papermill": {
     "duration": 0.131295,
     "end_time": "2020-12-07T14:18:27.013703",
     "exception": false,
     "start_time": "2020-12-07T14:18:26.882408",
     "status": "completed"
    },
    "tags": []
   },
   "outputs": [],
   "source": [
    "from imblearn.combine import SMOTETomek\n",
    "\n",
    "smt=SMOTETomek(random_state=42)\n",
    "x_res,y_res= smt.fit_sample(X,Y)"
   ]
  },
  {
   "cell_type": "code",
   "execution_count": 43,
   "metadata": {
    "execution": {
     "iopub.execute_input": "2020-12-07T14:18:27.194975Z",
     "iopub.status.busy": "2020-12-07T14:18:27.194087Z",
     "iopub.status.idle": "2020-12-07T14:18:27.200734Z",
     "shell.execute_reply": "2020-12-07T14:18:27.201603Z"
    },
    "papermill": {
     "duration": 0.102198,
     "end_time": "2020-12-07T14:18:27.201804",
     "exception": false,
     "start_time": "2020-12-07T14:18:27.099606",
     "status": "completed"
    },
    "tags": []
   },
   "outputs": [],
   "source": [
    "from sklearn.model_selection import train_test_split\n",
    "\n",
    "x_train, x_test, y_train, y_test= train_test_split(x_res,y_res, random_state=42, test_size=0.2, stratify=y_res)"
   ]
  },
  {
   "cell_type": "code",
   "execution_count": 44,
   "metadata": {
    "execution": {
     "iopub.execute_input": "2020-12-07T14:18:27.344465Z",
     "iopub.status.busy": "2020-12-07T14:18:27.343582Z",
     "iopub.status.idle": "2020-12-07T14:18:27.354910Z",
     "shell.execute_reply": "2020-12-07T14:18:27.354078Z"
    },
    "papermill": {
     "duration": 0.071115,
     "end_time": "2020-12-07T14:18:27.355088",
     "exception": false,
     "start_time": "2020-12-07T14:18:27.283973",
     "status": "completed"
    },
    "tags": []
   },
   "outputs": [
    {
     "name": "stdout",
     "output_type": "stream",
     "text": [
      "761 191 \n",
      "761 191 "
     ]
    }
   ],
   "source": [
    "print(len(x_train),len(x_test), end=' ')\n",
    "print()\n",
    "\n",
    "print(len(y_train),len(y_test),end=' ')"
   ]
  },
  {
   "cell_type": "code",
   "execution_count": 45,
   "metadata": {
    "execution": {
     "iopub.execute_input": "2020-12-07T14:18:27.536370Z",
     "iopub.status.busy": "2020-12-07T14:18:27.535044Z",
     "iopub.status.idle": "2020-12-07T14:18:27.566136Z",
     "shell.execute_reply": "2020-12-07T14:18:27.567069Z"
    },
    "papermill": {
     "duration": 0.127131,
     "end_time": "2020-12-07T14:18:27.567251",
     "exception": false,
     "start_time": "2020-12-07T14:18:27.440120",
     "status": "completed"
    },
    "tags": []
   },
   "outputs": [
    {
     "name": "stdout",
     "output_type": "stream",
     "text": [
      "Glucose....768\n",
      "SkinThickness....768\n",
      "BloodPressure....768\n",
      "BMI....768\n",
      "DiabetesPedigreeFunction....768\n",
      "Insulin....768\n",
      "Age....768\n",
      "Pregnancies....768\n"
     ]
    }
   ],
   "source": [
    "for x in set(X):\n",
    "    print('{}....{}'.format(x,len(X[X==x])))"
   ]
  },
  {
   "cell_type": "code",
   "execution_count": 46,
   "metadata": {
    "execution": {
     "iopub.execute_input": "2020-12-07T14:18:27.750857Z",
     "iopub.status.busy": "2020-12-07T14:18:27.749919Z",
     "iopub.status.idle": "2020-12-07T14:18:27.755624Z",
     "shell.execute_reply": "2020-12-07T14:18:27.754812Z"
    },
    "papermill": {
     "duration": 0.100713,
     "end_time": "2020-12-07T14:18:27.755753",
     "exception": false,
     "start_time": "2020-12-07T14:18:27.655040",
     "status": "completed"
    },
    "tags": []
   },
   "outputs": [
    {
     "name": "stdout",
     "output_type": "stream",
     "text": [
      "0....500\n",
      "1....268\n"
     ]
    }
   ],
   "source": [
    "for y in set(Y):\n",
    "    print('{}....{}'.format(y,len(Y[Y==y])))"
   ]
  },
  {
   "cell_type": "code",
   "execution_count": 47,
   "metadata": {
    "execution": {
     "iopub.execute_input": "2020-12-07T14:18:27.874732Z",
     "iopub.status.busy": "2020-12-07T14:18:27.873852Z",
     "iopub.status.idle": "2020-12-07T14:18:27.901136Z",
     "shell.execute_reply": "2020-12-07T14:18:27.899928Z"
    },
    "papermill": {
     "duration": 0.0878,
     "end_time": "2020-12-07T14:18:27.901403",
     "exception": false,
     "start_time": "2020-12-07T14:18:27.813603",
     "status": "completed"
    },
    "tags": []
   },
   "outputs": [
    {
     "name": "stdout",
     "output_type": "stream",
     "text": [
      "Glucose....952\n",
      "SkinThickness....952\n",
      "BloodPressure....952\n",
      "BMI....952\n",
      "DiabetesPedigreeFunction....952\n",
      "Insulin....952\n",
      "Age....952\n",
      "Pregnancies....952\n"
     ]
    }
   ],
   "source": [
    "for x in set(x_res):\n",
    "    print('{}....{}'.format(x,len(x_res[x_res==x])))"
   ]
  },
  {
   "cell_type": "code",
   "execution_count": 48,
   "metadata": {
    "execution": {
     "iopub.execute_input": "2020-12-07T14:18:28.019049Z",
     "iopub.status.busy": "2020-12-07T14:18:28.018423Z",
     "iopub.status.idle": "2020-12-07T14:18:28.028428Z",
     "shell.execute_reply": "2020-12-07T14:18:28.027621Z"
    },
    "papermill": {
     "duration": 0.069498,
     "end_time": "2020-12-07T14:18:28.028572",
     "exception": false,
     "start_time": "2020-12-07T14:18:27.959074",
     "status": "completed"
    },
    "tags": []
   },
   "outputs": [
    {
     "name": "stdout",
     "output_type": "stream",
     "text": [
      "0....476\n",
      "1....476\n"
     ]
    }
   ],
   "source": [
    "for y in set(y_res):\n",
    "    print('{}....{}'.format(y,len(y_res[y_res==y])))"
   ]
  },
  {
   "cell_type": "code",
   "execution_count": 49,
   "metadata": {
    "execution": {
     "iopub.execute_input": "2020-12-07T14:18:28.207558Z",
     "iopub.status.busy": "2020-12-07T14:18:28.206435Z",
     "iopub.status.idle": "2020-12-07T14:18:28.234497Z",
     "shell.execute_reply": "2020-12-07T14:18:28.233719Z"
    },
    "papermill": {
     "duration": 0.118158,
     "end_time": "2020-12-07T14:18:28.234624",
     "exception": false,
     "start_time": "2020-12-07T14:18:28.116466",
     "status": "completed"
    },
    "tags": []
   },
   "outputs": [
    {
     "name": "stdout",
     "output_type": "stream",
     "text": [
      "Glucose....761\n",
      "SkinThickness....761\n",
      "BloodPressure....761\n",
      "BMI....761\n",
      "DiabetesPedigreeFunction....761\n",
      "Insulin....761\n",
      "Age....761\n",
      "Pregnancies....761\n"
     ]
    }
   ],
   "source": [
    "for x in set(x_train):\n",
    "    print('{}....{}'.format(x,len(x_train[x_train==x])))"
   ]
  },
  {
   "cell_type": "code",
   "execution_count": 50,
   "metadata": {
    "execution": {
     "iopub.execute_input": "2020-12-07T14:18:28.424620Z",
     "iopub.status.busy": "2020-12-07T14:18:28.423286Z",
     "iopub.status.idle": "2020-12-07T14:18:28.449874Z",
     "shell.execute_reply": "2020-12-07T14:18:28.450357Z"
    },
    "papermill": {
     "duration": 0.125474,
     "end_time": "2020-12-07T14:18:28.450484",
     "exception": false,
     "start_time": "2020-12-07T14:18:28.325010",
     "status": "completed"
    },
    "tags": []
   },
   "outputs": [
    {
     "name": "stdout",
     "output_type": "stream",
     "text": [
      "Glucose....191\n",
      "SkinThickness....191\n",
      "BloodPressure....191\n",
      "BMI....191\n",
      "DiabetesPedigreeFunction....191\n",
      "Insulin....191\n",
      "Age....191\n",
      "Pregnancies....191\n"
     ]
    }
   ],
   "source": [
    "for x in set(x_test):\n",
    "    print('{}....{}'.format(x,len(x_test[x_test==x])))"
   ]
  },
  {
   "cell_type": "code",
   "execution_count": 51,
   "metadata": {
    "execution": {
     "iopub.execute_input": "2020-12-07T14:18:28.577154Z",
     "iopub.status.busy": "2020-12-07T14:18:28.576328Z",
     "iopub.status.idle": "2020-12-07T14:18:28.579247Z",
     "shell.execute_reply": "2020-12-07T14:18:28.579888Z"
    },
    "papermill": {
     "duration": 0.070454,
     "end_time": "2020-12-07T14:18:28.580079",
     "exception": false,
     "start_time": "2020-12-07T14:18:28.509625",
     "status": "completed"
    },
    "tags": []
   },
   "outputs": [
    {
     "name": "stdout",
     "output_type": "stream",
     "text": [
      "0....380\n",
      "1....381\n"
     ]
    }
   ],
   "source": [
    "for y in set(y_train):\n",
    "    print('{}....{}'.format(y,len(y_train[y_train==y])))"
   ]
  },
  {
   "cell_type": "code",
   "execution_count": 52,
   "metadata": {
    "execution": {
     "iopub.execute_input": "2020-12-07T14:18:28.773345Z",
     "iopub.status.busy": "2020-12-07T14:18:28.772517Z",
     "iopub.status.idle": "2020-12-07T14:18:28.777256Z",
     "shell.execute_reply": "2020-12-07T14:18:28.776400Z"
    },
    "papermill": {
     "duration": 0.103725,
     "end_time": "2020-12-07T14:18:28.777378",
     "exception": false,
     "start_time": "2020-12-07T14:18:28.673653",
     "status": "completed"
    },
    "tags": []
   },
   "outputs": [
    {
     "name": "stdout",
     "output_type": "stream",
     "text": [
      "0....96\n",
      "1....95\n"
     ]
    }
   ],
   "source": [
    "for y in set(y_test):\n",
    "    print('{}....{}'.format(y,len(y_test[y_test==y])))"
   ]
  },
  {
   "cell_type": "code",
   "execution_count": 53,
   "metadata": {
    "execution": {
     "iopub.execute_input": "2020-12-07T14:18:28.976808Z",
     "iopub.status.busy": "2020-12-07T14:18:28.976020Z",
     "iopub.status.idle": "2020-12-07T14:18:28.979307Z",
     "shell.execute_reply": "2020-12-07T14:18:28.978630Z"
    },
    "papermill": {
     "duration": 0.109299,
     "end_time": "2020-12-07T14:18:28.979434",
     "exception": false,
     "start_time": "2020-12-07T14:18:28.870135",
     "status": "completed"
    },
    "tags": []
   },
   "outputs": [],
   "source": [
    "#lr=LogisticRegression()\n",
    "#lr.fit(x_train, y_train)\n",
    "from sklearn.preprocessing import StandardScaler\n",
    "sc_x=StandardScaler()\n",
    "x_train_scaled=sc_x.fit_transform(x_train)\n",
    "\n",
    "\n",
    "#svc=SVC(kernel='rbf', gamma=1, C=0.001)\n",
    "svc=SVC()"
   ]
  },
  {
   "cell_type": "code",
   "execution_count": 54,
   "metadata": {
    "execution": {
     "iopub.execute_input": "2020-12-07T14:18:29.178629Z",
     "iopub.status.busy": "2020-12-07T14:18:29.177400Z",
     "iopub.status.idle": "2020-12-07T14:18:38.289775Z",
     "shell.execute_reply": "2020-12-07T14:18:38.288877Z"
    },
    "papermill": {
     "duration": 9.214591,
     "end_time": "2020-12-07T14:18:38.289925",
     "exception": false,
     "start_time": "2020-12-07T14:18:29.075334",
     "status": "completed"
    },
    "tags": []
   },
   "outputs": [
    {
     "data": {
      "text/plain": [
       "GridSearchCV(cv=10, estimator=SVC(), n_jobs=-1,\n",
       "             param_grid={'C': [0.1, 0.01, 0.001, 0.0001, 1e-05, 1e-06, 1e-07,\n",
       "                               1e-08, 1e-09, 1, 2, 3, 4, 5, 6, 7, 8, 9, 10,\n",
       "                               100],\n",
       "                         'gamma': [1, 2, 3], 'kernel': ['rbf']},\n",
       "             scoring='f1')"
      ]
     },
     "execution_count": 54,
     "metadata": {},
     "output_type": "execute_result"
    }
   ],
   "source": [
    "from sklearn.model_selection import GridSearchCV\n",
    "\n",
    "#kernel='rbf', gamma=2, C=0.000000001\n",
    "\n",
    "params={\n",
    "    'kernel':['rbf'],\n",
    "    'gamma':[1,2,3],\n",
    "    'C':[1e-1,1e-2,1e-3,1e-4,1e-5,1e-6,1e-7,1e-8,1e-9,1,2,3,4,5,6,7,8,9,10,100]\n",
    "}\n",
    "\n",
    "#scoring={'precision':'precision', 'recall':'recall'}\n",
    "#gs=GridSearchCV(svc, cv=5, param_grid=params, n_jobs=-1, \n",
    "#                scoring=scoring,\n",
    "#               refit='precision')\n",
    "\n",
    "\n",
    "gs=GridSearchCV(svc, cv=10, param_grid=params, n_jobs=-1, \n",
    "                scoring='f1')\n",
    "\n",
    "gs.fit(x_train_scaled, y_train)"
   ]
  },
  {
   "cell_type": "code",
   "execution_count": null,
   "metadata": {
    "papermill": {
     "duration": 0.059808,
     "end_time": "2020-12-07T14:18:38.438796",
     "exception": false,
     "start_time": "2020-12-07T14:18:38.378988",
     "status": "completed"
    },
    "tags": []
   },
   "outputs": [],
   "source": []
  },
  {
   "cell_type": "code",
   "execution_count": 55,
   "metadata": {
    "execution": {
     "iopub.execute_input": "2020-12-07T14:18:38.563805Z",
     "iopub.status.busy": "2020-12-07T14:18:38.562674Z",
     "iopub.status.idle": "2020-12-07T14:18:38.565646Z",
     "shell.execute_reply": "2020-12-07T14:18:38.566376Z"
    },
    "papermill": {
     "duration": 0.067854,
     "end_time": "2020-12-07T14:18:38.566561",
     "exception": false,
     "start_time": "2020-12-07T14:18:38.498707",
     "status": "completed"
    },
    "tags": []
   },
   "outputs": [],
   "source": [
    "#gamma=1, C=0.001"
   ]
  },
  {
   "cell_type": "code",
   "execution_count": 56,
   "metadata": {
    "execution": {
     "iopub.execute_input": "2020-12-07T14:18:38.761299Z",
     "iopub.status.busy": "2020-12-07T14:18:38.760371Z",
     "iopub.status.idle": "2020-12-07T14:18:38.765909Z",
     "shell.execute_reply": "2020-12-07T14:18:38.765152Z"
    },
    "papermill": {
     "duration": 0.104608,
     "end_time": "2020-12-07T14:18:38.766063",
     "exception": false,
     "start_time": "2020-12-07T14:18:38.661455",
     "status": "completed"
    },
    "tags": []
   },
   "outputs": [
    {
     "name": "stdout",
     "output_type": "stream",
     "text": [
      "{'C': 1, 'gamma': 1, 'kernel': 'rbf'}\n",
      "0.8334538610679493\n"
     ]
    }
   ],
   "source": [
    "print(gs.best_params_)\n",
    "print(gs.best_score_)"
   ]
  },
  {
   "cell_type": "code",
   "execution_count": 57,
   "metadata": {
    "execution": {
     "iopub.execute_input": "2020-12-07T14:18:38.957723Z",
     "iopub.status.busy": "2020-12-07T14:18:38.956917Z",
     "iopub.status.idle": "2020-12-07T14:18:38.992801Z",
     "shell.execute_reply": "2020-12-07T14:18:38.993630Z"
    },
    "papermill": {
     "duration": 0.133264,
     "end_time": "2020-12-07T14:18:38.993832",
     "exception": false,
     "start_time": "2020-12-07T14:18:38.860568",
     "status": "completed"
    },
    "tags": []
   },
   "outputs": [
    {
     "name": "stdout",
     "output_type": "stream",
     "text": [
      "1.0\n",
      "1.0\n",
      "rbf\n"
     ]
    }
   ],
   "source": [
    "svc_best=SVC(C= float(gs.best_params_.get('C')), gamma= float(gs.best_params_.get('gamma')), \n",
    "             kernel= str(gs.best_params_.get('kernel')))\n",
    "svc_best.fit(x_train_scaled, y_train)\n",
    "\n",
    "print(float(gs.best_params_.get('C')))\n",
    "print(float(gs.best_params_.get('gamma')))\n",
    "print(str(gs.best_params_.get('kernel')))"
   ]
  },
  {
   "cell_type": "code",
   "execution_count": 58,
   "metadata": {
    "execution": {
     "iopub.execute_input": "2020-12-07T14:18:39.200463Z",
     "iopub.status.busy": "2020-12-07T14:18:39.199678Z",
     "iopub.status.idle": "2020-12-07T14:18:39.234730Z",
     "shell.execute_reply": "2020-12-07T14:18:39.235533Z"
    },
    "papermill": {
     "duration": 0.134248,
     "end_time": "2020-12-07T14:18:39.235702",
     "exception": false,
     "start_time": "2020-12-07T14:18:39.101454",
     "status": "completed"
    },
    "tags": []
   },
   "outputs": [
    {
     "name": "stdout",
     "output_type": "stream",
     "text": [
      "[[368  12]\n",
      " [  5 376]]\n",
      "\n",
      "\n",
      "              precision    recall  f1-score   support\n",
      "\n",
      "           0       0.99      0.97      0.98       380\n",
      "           1       0.97      0.99      0.98       381\n",
      "\n",
      "    accuracy                           0.98       761\n",
      "   macro avg       0.98      0.98      0.98       761\n",
      "weighted avg       0.98      0.98      0.98       761\n",
      "\n",
      "\n",
      "\n",
      "Precision = 0.9690721649484536\n",
      "Recall = 0.9868766404199475\n",
      "f1-score = 0.977893368010403\n"
     ]
    }
   ],
   "source": [
    "from sklearn.metrics import confusion_matrix\n",
    "from sklearn.metrics import classification_report\n",
    "from sklearn.metrics import precision_score, recall_score,f1_score\n",
    "\n",
    "y_train_pred=svc_best.predict(x_train_scaled)\n",
    "print(confusion_matrix(y_train,y_train_pred))\n",
    "print()\n",
    "print()\n",
    "print(classification_report(y_train,y_train_pred))\n",
    "print()\n",
    "print()\n",
    "print('Precision =',precision_score(y_train, y_train_pred))\n",
    "print('Recall =',recall_score(y_train, y_train_pred))\n",
    "print('f1-score =',f1_score(y_train, y_train_pred))"
   ]
  },
  {
   "cell_type": "code",
   "execution_count": 59,
   "metadata": {
    "execution": {
     "iopub.execute_input": "2020-12-07T14:18:39.369071Z",
     "iopub.status.busy": "2020-12-07T14:18:39.368473Z",
     "iopub.status.idle": "2020-12-07T14:18:39.643552Z",
     "shell.execute_reply": "2020-12-07T14:18:39.642750Z"
    },
    "papermill": {
     "duration": 0.341291,
     "end_time": "2020-12-07T14:18:39.643682",
     "exception": false,
     "start_time": "2020-12-07T14:18:39.302391",
     "status": "completed"
    },
    "scrolled": true,
    "tags": []
   },
   "outputs": [
    {
     "name": "stdout",
     "output_type": "stream",
     "text": [
      "[[294  86]\n",
      " [ 47 334]]\n",
      "\n",
      "\n",
      "              precision    recall  f1-score   support\n",
      "\n",
      "           0       0.86      0.77      0.82       380\n",
      "           1       0.80      0.88      0.83       381\n",
      "\n",
      "    accuracy                           0.83       761\n",
      "   macro avg       0.83      0.83      0.82       761\n",
      "weighted avg       0.83      0.83      0.82       761\n",
      "\n",
      "\n",
      "\n",
      "Precision = 0.7952380952380952\n",
      "Recall = 0.8766404199475065\n",
      "f1-score = 0.8339575530586766\n"
     ]
    }
   ],
   "source": [
    "from sklearn.metrics import confusion_matrix\n",
    "from sklearn.metrics import classification_report\n",
    "from sklearn.metrics import precision_score, recall_score,f1_score\n",
    "from sklearn.model_selection import cross_val_predict\n",
    "\n",
    "y_train_pred= cross_val_predict(svc_best, x_train_scaled, y_train,cv=10)\n",
    "#y_train_pred=svc_best.predict(x_train_scaled)\n",
    "print(confusion_matrix(y_train,y_train_pred))\n",
    "print()\n",
    "print()\n",
    "print(classification_report(y_train,y_train_pred))\n",
    "print()\n",
    "print()\n",
    "print('Precision =',precision_score(y_train, y_train_pred))\n",
    "print('Recall =',recall_score(y_train, y_train_pred))\n",
    "print('f1-score =',f1_score(y_train, y_train_pred))"
   ]
  },
  {
   "cell_type": "code",
   "execution_count": 60,
   "metadata": {
    "execution": {
     "iopub.execute_input": "2020-12-07T14:18:39.844972Z",
     "iopub.status.busy": "2020-12-07T14:18:39.844020Z",
     "iopub.status.idle": "2020-12-07T14:18:39.868969Z",
     "shell.execute_reply": "2020-12-07T14:18:39.868242Z"
    },
    "papermill": {
     "duration": 0.129102,
     "end_time": "2020-12-07T14:18:39.869108",
     "exception": false,
     "start_time": "2020-12-07T14:18:39.740006",
     "status": "completed"
    },
    "tags": []
   },
   "outputs": [
    {
     "name": "stdout",
     "output_type": "stream",
     "text": [
      "[[71 25]\n",
      " [11 84]]\n",
      "\n",
      "\n",
      "              precision    recall  f1-score   support\n",
      "\n",
      "           0       0.87      0.74      0.80        96\n",
      "           1       0.77      0.88      0.82        95\n",
      "\n",
      "    accuracy                           0.81       191\n",
      "   macro avg       0.82      0.81      0.81       191\n",
      "weighted avg       0.82      0.81      0.81       191\n",
      "\n",
      "\n",
      "Precision = 0.7706422018348624\n",
      "Recall = 0.8842105263157894\n",
      "f1-score = 0.823529411764706\n"
     ]
    }
   ],
   "source": [
    "y_test_pred=svc_best.predict(sc_x.transform(x_test))\n",
    "print(confusion_matrix(y_test, y_test_pred))\n",
    "print()\n",
    "print()\n",
    "from sklearn.metrics import classification_report\n",
    "\n",
    "print(classification_report(y_test, y_test_pred))\n",
    "print()\n",
    "print('Precision =',precision_score(y_test, y_test_pred))\n",
    "print('Recall =',recall_score(y_test, y_test_pred))\n",
    "print('f1-score =',f1_score(y_test, y_test_pred))"
   ]
  },
  {
   "cell_type": "code",
   "execution_count": 61,
   "metadata": {
    "execution": {
     "iopub.execute_input": "2020-12-07T14:18:40.072321Z",
     "iopub.status.busy": "2020-12-07T14:18:40.071462Z",
     "iopub.status.idle": "2020-12-07T14:18:40.087824Z",
     "shell.execute_reply": "2020-12-07T14:18:40.087109Z"
    },
    "papermill": {
     "duration": 0.122227,
     "end_time": "2020-12-07T14:18:40.088015",
     "exception": false,
     "start_time": "2020-12-07T14:18:39.965788",
     "status": "completed"
    },
    "tags": []
   },
   "outputs": [
    {
     "name": "stdout",
     "output_type": "stream",
     "text": [
      "0.8593556439467251 {'C': 0.1, 'gamma': 1, 'kernel': 'rbf'}\n",
      "0.8255670132605241 {'C': 0.1, 'gamma': 2, 'kernel': 'rbf'}\n",
      "0.8191262063537487 {'C': 0.1, 'gamma': 3, 'kernel': 'rbf'}\n",
      "0.820303112429596 {'C': 0.01, 'gamma': 1, 'kernel': 'rbf'}\n",
      "0.8234075540095561 {'C': 0.01, 'gamma': 2, 'kernel': 'rbf'}\n",
      "0.8191262063537487 {'C': 0.01, 'gamma': 3, 'kernel': 'rbf'}\n",
      "0.820303112429596 {'C': 0.001, 'gamma': 1, 'kernel': 'rbf'}\n",
      "0.8234075540095561 {'C': 0.001, 'gamma': 2, 'kernel': 'rbf'}\n",
      "0.8191262063537487 {'C': 0.001, 'gamma': 3, 'kernel': 'rbf'}\n",
      "0.820303112429596 {'C': 0.0001, 'gamma': 1, 'kernel': 'rbf'}\n",
      "0.8234075540095561 {'C': 0.0001, 'gamma': 2, 'kernel': 'rbf'}\n",
      "0.8191262063537487 {'C': 0.0001, 'gamma': 3, 'kernel': 'rbf'}\n",
      "0.820303112429596 {'C': 1e-05, 'gamma': 1, 'kernel': 'rbf'}\n",
      "0.8234075540095561 {'C': 1e-05, 'gamma': 2, 'kernel': 'rbf'}\n",
      "0.8191262063537487 {'C': 1e-05, 'gamma': 3, 'kernel': 'rbf'}\n",
      "0.820303112429596 {'C': 1e-06, 'gamma': 1, 'kernel': 'rbf'}\n",
      "0.8234075540095561 {'C': 1e-06, 'gamma': 2, 'kernel': 'rbf'}\n",
      "0.8191262063537487 {'C': 1e-06, 'gamma': 3, 'kernel': 'rbf'}\n",
      "0.820303112429596 {'C': 1e-07, 'gamma': 1, 'kernel': 'rbf'}\n",
      "0.8234075540095561 {'C': 1e-07, 'gamma': 2, 'kernel': 'rbf'}\n",
      "0.8191262063537487 {'C': 1e-07, 'gamma': 3, 'kernel': 'rbf'}\n",
      "0.820303112429596 {'C': 1e-08, 'gamma': 1, 'kernel': 'rbf'}\n",
      "0.8234075540095561 {'C': 1e-08, 'gamma': 2, 'kernel': 'rbf'}\n",
      "0.8191262063537487 {'C': 1e-08, 'gamma': 3, 'kernel': 'rbf'}\n",
      "0.820303112429596 {'C': 1e-09, 'gamma': 1, 'kernel': 'rbf'}\n",
      "0.8234075540095561 {'C': 1e-09, 'gamma': 2, 'kernel': 'rbf'}\n",
      "0.8191262063537487 {'C': 1e-09, 'gamma': 3, 'kernel': 'rbf'}\n",
      "0.9129369425474847 {'C': 1, 'gamma': 1, 'kernel': 'rbf'}\n",
      "0.9007327398934664 {'C': 1, 'gamma': 2, 'kernel': 'rbf'}\n",
      "0.8741146228910828 {'C': 1, 'gamma': 3, 'kernel': 'rbf'}\n",
      "0.9068149652697856 {'C': 2, 'gamma': 1, 'kernel': 'rbf'}\n",
      "0.8989669014569722 {'C': 2, 'gamma': 2, 'kernel': 'rbf'}\n",
      "0.8786370685038931 {'C': 2, 'gamma': 3, 'kernel': 'rbf'}\n",
      "0.9081419575702006 {'C': 3, 'gamma': 1, 'kernel': 'rbf'}\n",
      "0.8985691783584913 {'C': 3, 'gamma': 2, 'kernel': 'rbf'}\n",
      "0.8786370685038931 {'C': 3, 'gamma': 3, 'kernel': 'rbf'}\n",
      "0.9061793160246552 {'C': 4, 'gamma': 1, 'kernel': 'rbf'}\n",
      "0.8985691783584913 {'C': 4, 'gamma': 2, 'kernel': 'rbf'}\n",
      "0.8786370685038931 {'C': 4, 'gamma': 3, 'kernel': 'rbf'}\n",
      "0.9056641204176797 {'C': 5, 'gamma': 1, 'kernel': 'rbf'}\n",
      "0.8971698835161315 {'C': 5, 'gamma': 2, 'kernel': 'rbf'}\n",
      "0.8774626472408964 {'C': 5, 'gamma': 3, 'kernel': 'rbf'}\n",
      "0.9070691024736676 {'C': 6, 'gamma': 1, 'kernel': 'rbf'}\n",
      "0.8966221856211222 {'C': 6, 'gamma': 2, 'kernel': 'rbf'}\n",
      "0.8781324705261577 {'C': 6, 'gamma': 3, 'kernel': 'rbf'}\n",
      "0.906521196695892 {'C': 7, 'gamma': 1, 'kernel': 'rbf'}\n",
      "0.8966221856211222 {'C': 7, 'gamma': 2, 'kernel': 'rbf'}\n",
      "0.8781324705261577 {'C': 7, 'gamma': 3, 'kernel': 'rbf'}\n",
      "0.906695936529033 {'C': 8, 'gamma': 1, 'kernel': 'rbf'}\n",
      "0.8966221856211222 {'C': 8, 'gamma': 2, 'kernel': 'rbf'}\n",
      "0.8781324705261577 {'C': 8, 'gamma': 3, 'kernel': 'rbf'}\n",
      "0.9061934453533759 {'C': 9, 'gamma': 1, 'kernel': 'rbf'}\n",
      "0.8966221856211222 {'C': 9, 'gamma': 2, 'kernel': 'rbf'}\n",
      "0.8781324705261577 {'C': 9, 'gamma': 3, 'kernel': 'rbf'}\n",
      "0.9061934453533759 {'C': 10, 'gamma': 1, 'kernel': 'rbf'}\n",
      "0.8966221856211222 {'C': 10, 'gamma': 2, 'kernel': 'rbf'}\n",
      "0.8781324705261577 {'C': 10, 'gamma': 3, 'kernel': 'rbf'}\n",
      "0.9068644952980646 {'C': 100, 'gamma': 1, 'kernel': 'rbf'}\n",
      "0.8966221856211222 {'C': 100, 'gamma': 2, 'kernel': 'rbf'}\n",
      "0.8781324705261577 {'C': 100, 'gamma': 3, 'kernel': 'rbf'}\n"
     ]
    }
   ],
   "source": [
    "cvres= gs.cv_results_\n",
    "for mean_score, params in zip(cvres[\"mean_test_score\"], cvres[\"params\"]):\n",
    "    print(np.sqrt(mean_score), params)\n",
    "#cvres"
   ]
  },
  {
   "cell_type": "code",
   "execution_count": null,
   "metadata": {
    "papermill": {
     "duration": 0.062586,
     "end_time": "2020-12-07T14:18:40.214462",
     "exception": false,
     "start_time": "2020-12-07T14:18:40.151876",
     "status": "completed"
    },
    "tags": []
   },
   "outputs": [],
   "source": []
  }
 ],
 "metadata": {
  "kernelspec": {
   "display_name": "Python 3",
   "language": "python",
   "name": "python3"
  },
  "language_info": {
   "codemirror_mode": {
    "name": "ipython",
    "version": 3
   },
   "file_extension": ".py",
   "mimetype": "text/x-python",
   "name": "python",
   "nbconvert_exporter": "python",
   "pygments_lexer": "ipython3",
   "version": "3.7.6"
  },
  "papermill": {
   "duration": 38.660896,
   "end_time": "2020-12-07T14:18:40.392630",
   "environment_variables": {},
   "exception": null,
   "input_path": "__notebook__.ipynb",
   "output_path": "__notebook__.ipynb",
   "parameters": {},
   "start_time": "2020-12-07T14:18:01.731734",
   "version": "2.1.0"
  }
 },
 "nbformat": 4,
 "nbformat_minor": 4
}
